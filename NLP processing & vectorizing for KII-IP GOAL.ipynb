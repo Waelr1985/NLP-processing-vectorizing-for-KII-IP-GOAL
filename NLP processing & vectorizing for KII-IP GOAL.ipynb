{
 "cells": [
  {
   "cell_type": "code",
   "execution_count": 1,
   "metadata": {},
   "outputs": [],
   "source": [
    "import spacy "
   ]
  },
  {
   "cell_type": "code",
   "execution_count": 109,
   "metadata": {},
   "outputs": [
    {
     "name": "stdout",
     "output_type": "stream",
     "text": [
      "['activity', 'carry', 'require', 'operate', 'station', 'supply', 'fuel', 'oil', 'periodic', 'fuel', 'inventory', 'follow', 'maintenance', 'follow', 'infrastructure', 'project', 'pandemic', 'field', 'visit', 'station', 'reduce', 'much', 'possible', 'activity', 'pursue', 'via', 'WhatsApp', 'affect', 'quality', 'work', 'implementation', 'activity', 'within', 'require', 'time', 'mean', 'delay']\n"
     ]
    }
   ],
   "source": [
    "# Load the en_core_web_sm model\n",
    "nlp =  spacy.load('en_core_web_sm')\n",
    "\n",
    "# Create a Doc object for first answer\n",
    "doc = nlp(KII_GOAL['Answers'][0])\n",
    "\n",
    "# Generate the tokens\n",
    "tokens = [token.text for token in doc]\n",
    "print(tokens)"
   ]
  },
  {
   "cell_type": "code",
   "execution_count": 5,
   "metadata": {},
   "outputs": [],
   "source": [
    "stopwords = ['i',\n",
    " 'me',\n",
    " 'my',\n",
    " 'myself',\n",
    " 'we',\n",
    " 'our',\n",
    " 'ours',\n",
    " 'ourselves',\n",
    " 'you',\n",
    " 'your',\n",
    " 'yours',\n",
    " 'yourself',\n",
    " 'yourselves',\n",
    " 'he',\n",
    " 'him',\n",
    " 'his',\n",
    " 'himself',\n",
    " 'she',\n",
    " 'her',\n",
    " 'hers',\n",
    " 'herself',\n",
    " 'it',\n",
    " 'its',\n",
    " 'itself',\n",
    " 'they',\n",
    " 'them',\n",
    " 'their',\n",
    " 'theirs',\n",
    " 'themselves',\n",
    " 'what',\n",
    " 'which',\n",
    " 'who',\n",
    " 'whom',\n",
    " 'this',\n",
    " 'that',\n",
    " 'these',\n",
    " 'those',\n",
    " 'am',\n",
    " 'is',\n",
    " 'are',\n",
    " 'was',\n",
    " 'were',\n",
    " 'be',\n",
    " 'been',\n",
    " 'being',\n",
    " 'have',\n",
    " 'has',\n",
    " 'had',\n",
    " 'having',\n",
    " 'do',\n",
    " 'does',\n",
    " 'did',\n",
    " 'doing',\n",
    " 'a',\n",
    " 'an',\n",
    " 'the',\n",
    " 'and',\n",
    " 'but',\n",
    " 'if',\n",
    " 'or',\n",
    " 'because',\n",
    " 'as',\n",
    " 'until',\n",
    " 'while',\n",
    " 'of',\n",
    " 'at',\n",
    " 'by',\n",
    " 'for',\n",
    " 'with',\n",
    " 'about',\n",
    " 'against',\n",
    " 'between',\n",
    " 'into',\n",
    " 'through',\n",
    " 'during',\n",
    " 'before',\n",
    " 'after',\n",
    " 'above',\n",
    " 'below',\n",
    " 'to',\n",
    " 'from',\n",
    " 'up',\n",
    " 'down',\n",
    " 'in',\n",
    " 'out',\n",
    " 'on',\n",
    " 'off',\n",
    " 'over',\n",
    " 'under',\n",
    " 'again',\n",
    " 'further',\n",
    " 'then',\n",
    " 'once',\n",
    " 'here',\n",
    " 'there',\n",
    " 'when',\n",
    " 'where',\n",
    " 'why',\n",
    " 'how',\n",
    " 'all',\n",
    " 'any',\n",
    " 'both',\n",
    " 'each',\n",
    " 'few',\n",
    " 'more',\n",
    " 'most',\n",
    " 'other',\n",
    " 'some',\n",
    " 'such',\n",
    " 'no',\n",
    " 'nor',\n",
    " 'not',\n",
    " 'only',\n",
    " 'own',\n",
    " 'same',\n",
    " 'so',\n",
    " 'than',\n",
    " 'too',\n",
    " 'very',\n",
    " 's',\n",
    " 't',\n",
    " 'can',\n",
    " 'will',\n",
    " 'just',\n",
    " 'don',\n",
    " 'should',\n",
    " 'now',\n",
    " 'd',\n",
    " 'll',\n",
    " 'm',\n",
    " 'o',\n",
    " 're',\n",
    " 've',\n",
    " 'y',\n",
    " 'ain',\n",
    " 'aren',\n",
    " 'couldn',\n",
    " 'didn',\n",
    " 'doesn',\n",
    " 'hadn',\n",
    " 'hasn',\n",
    " 'haven',\n",
    " 'isn',\n",
    " 'ma',\n",
    " 'mightn',\n",
    " 'mustn',\n",
    " 'needn',\n",
    " 'shan',\n",
    " 'shouldn',\n",
    " 'wasn',\n",
    " 'weren',\n",
    " 'won',\n",
    " 'wouldn',\n",
    " '']"
   ]
  },
  {
   "cell_type": "code",
   "execution_count": 77,
   "metadata": {},
   "outputs": [
    {
     "name": "stdout",
     "output_type": "stream",
     "text": [
      "0     activity carry require operate station supply ...\n",
      "1     laboratory Wash program well laboratory every ...\n",
      "2     every station one operate worker Hazano statio...\n",
      "3     health awareness session design reach benefici...\n",
      "4     benefit water program work area choose accord ...\n",
      "5     problem far preventive measure take term distr...\n",
      "6     water program provide clean water target group...\n",
      "7     complaint receive complaint office organizatio...\n",
      "8     yes sign code conduct mandatory procedure empl...\n",
      "9                                                   yes\n",
      "10    protection generalization section organization...\n",
      "11    water program provide clean water support segm...\n",
      "12    yes consideration give example area network re...\n",
      "13                  work currently overlap organization\n",
      "14    organization provide support area meeting requ...\n",
      "15    support provide somewhat adequate emergency pr...\n",
      "16    design project cooperation local authority car...\n",
      "17    monitoring team visit station weekly work gene...\n",
      "18    main headquarters Syria city Harem monitoring ...\n",
      "Name: Answers, dtype: object\n"
     ]
    }
   ],
   "source": [
    "# Function to preprocess text\n",
    "def preprocess(text):\n",
    "  \t# Create Doc object\n",
    "    doc = nlp(text, disable=['ner', 'parser'])\n",
    "    # Generate lemmas\n",
    "    lemmas = [token.lemma_ for token in doc]\n",
    "    # Remove stopwords and non-alphabetic characters\n",
    "    a_lemmas = [lemma for lemma in lemmas \n",
    "            if lemma.isalpha() and lemma not in stopwords]\n",
    "    \n",
    "    return ' '.join(a_lemmas)\n",
    "  \n",
    "# Apply preprocess to ted['transcript']\n",
    "KII_GOAL['Answers'] = KII_GOAL['Answers'].apply(preprocess)\n",
    "print(KII_GOAL['Answers'])"
   ]
  },
  {
   "cell_type": "code",
   "execution_count": 124,
   "metadata": {},
   "outputs": [
    {
     "name": "stdout",
     "output_type": "stream",
     "text": [
      "[('activity', 'NOUN'), ('carry', 'VERB'), ('require', 'NOUN'), ('operate', 'VERB'), ('station', 'NOUN'), ('supply', 'NOUN'), ('fuel', 'NOUN'), ('oil', 'NOUN'), ('periodic', 'ADJ'), ('fuel', 'NOUN'), ('inventory', 'NOUN'), ('follow', 'NOUN'), ('maintenance', 'NOUN'), ('follow', 'NOUN'), ('infrastructure', 'NOUN'), ('project', 'NOUN'), ('pandemic', 'PROPN'), ('field', 'NOUN'), ('visit', 'NOUN'), ('station', 'NOUN'), ('reduce', 'VERB'), ('much', 'ADJ'), ('possible', 'ADJ'), ('activity', 'NOUN'), ('pursue', 'NOUN'), ('via', 'ADP'), ('WhatsApp', 'PROPN'), ('affect', 'VERB'), ('quality', 'NOUN'), ('work', 'NOUN'), ('implementation', 'NOUN'), ('activity', 'NOUN'), ('within', 'ADP'), ('require', 'NOUN'), ('time', 'NOUN'), ('mean', 'ADJ'), ('delay', 'NOUN')]\n"
     ]
    }
   ],
   "source": [
    "# Load the en_core_web_sm model\n",
    "nlp = spacy.load('en_core_web_sm')\n",
    "\n",
    "# Create a Doc object for first answer\n",
    "doc = nlp(KII_GOAL['Answers'][0])\n",
    "\n",
    "# Generate tokens and pos tags\n",
    "pos = [(token.text, token.pos_) for token in doc]\n",
    "print(pos)"
   ]
  },
  {
   "cell_type": "code",
   "execution_count": 111,
   "metadata": {},
   "outputs": [
    {
     "name": "stdout",
     "output_type": "stream",
     "text": [
      "[('laboratory', 'PROPN'), ('Wash', 'PROPN'), ('program', 'NOUN'), ('well', 'INTJ'), ('laboratory', 'NOUN'), ('every', 'DET'), ('water', 'NOUN'), ('unit', 'NOUN'), ('sample', 'NOUN'), ('water', 'NOUN'), ('collect', 'VERB'), ('pump', 'PROPN'), ('station', 'PROPN'), ('home', 'PROPN'), ('beneficiary', 'NOUN'), ('percentage', 'NOUN'), ('free', 'ADJ'), ('remain', 'VERB'), ('chlorine', 'NOUN'), ('measure', 'NOUN'), ('well', 'INTJ'), ('turbidity', 'NOUN'), ('microbial', 'ADJ'), ('colony', 'NOUN'), ('measurement', 'VERB'), ('weekly', 'PROPN'), ('basis', 'NOUN'), ('laboratory', 'NOUN'), ('employee', 'NOUN'), ('submit', 'VERB'), ('weekly', 'ADJ'), ('report', 'NOUN'), ('laboratory', 'NOUN'), ('work', 'NOUN'), ('report', 'NOUN'), ('submit', 'VERB'), ('administration', 'NOUN'), ('per', 'ADP'), ('capita', 'NOUN'), ('water', 'NOUN'), ('share', 'NOUN'), ('per', 'ADP'), ('day', 'NOUN'), ('obtain', 'VERB'), ('pump', 'NOUN'), ('datum', 'NOUN'), ('station', 'NOUN'), ('raise', 'VERB'), ('daily', 'ADJ'), ('program', 'NOUN'), ('every', 'DET'), ('Monday', 'PROPN'), ('amount', 'NOUN'), ('liter', 'NOUN'), ('water', 'NOUN'), ('per', 'ADP'), ('person', 'NOUN'), ('February', 'PROPN'), ('Hazano', 'PROPN'), ('station', 'NOUN'), ('start', 'NOUN'), ('pump', 'NOUN'), ('water', 'NOUN'), ('rate', 'NOUN'), ('hour', 'NOUN'), ('per', 'ADP'), ('day', 'NOUN'), ('start', 'NOUN'), ('increase', 'NOUN'), ('number', 'NOUN'), ('pump', 'NOUN'), ('hour', 'NOUN'), ('hour', 'NOUN'), ('per', 'ADP'), ('day', 'NOUN')]\n"
     ]
    }
   ],
   "source": [
    "# Load the en_core_web_sm model\n",
    "nlp = spacy.load('en_core_web_sm')\n",
    "\n",
    "# Create a Doc object for second answer\n",
    "doc = nlp(KII_GOAL['Answers'][1])\n",
    "\n",
    "# Generate tokens and pos tags\n",
    "pos = [(token.text, token.pos_) for token in doc]\n",
    "print(pos)"
   ]
  },
  {
   "cell_type": "code",
   "execution_count": 119,
   "metadata": {},
   "outputs": [
    {
     "name": "stdout",
     "output_type": "stream",
     "text": [
      "2\n"
     ]
    }
   ],
   "source": [
    "#IMPORTANT # A proper noun is the special word that we use for a person, \n",
    "# place or organization, like John, Marie, London, France or Sony.\n",
    "\n",
    "nlp = spacy.load('en_core_web_sm')\n",
    "\n",
    "# Returns number of proper nouns\n",
    "def proper_nouns(text, model=nlp):\n",
    "  \t# Create doc object\n",
    "    doc = model(text)\n",
    "    # Generate list of POS tags\n",
    "    pos = [token.pos_ for token in doc]\n",
    "    \n",
    "    # Return number of proper nouns\n",
    "    return pos.count('PROPN')\n",
    "\n",
    "# print a A proper noun for first answer\n",
    "print(proper_nouns(KII_GOAL['Answers'][0], nlp))"
   ]
  },
  {
   "cell_type": "code",
   "execution_count": 121,
   "metadata": {},
   "outputs": [
    {
     "name": "stdout",
     "output_type": "stream",
     "text": [
      "2 <spacy.lang.en.English object at 0x000002240AD51860>\n",
      "9 <spacy.lang.en.English object at 0x000002240AD51860>\n",
      "21 <spacy.lang.en.English object at 0x000002240AD51860>\n",
      "5 <spacy.lang.en.English object at 0x000002240AD51860>\n",
      "10 <spacy.lang.en.English object at 0x000002240AD51860>\n",
      "4 <spacy.lang.en.English object at 0x000002240AD51860>\n",
      "0 <spacy.lang.en.English object at 0x000002240AD51860>\n",
      "11 <spacy.lang.en.English object at 0x000002240AD51860>\n",
      "3 <spacy.lang.en.English object at 0x000002240AD51860>\n",
      "0 <spacy.lang.en.English object at 0x000002240AD51860>\n",
      "5 <spacy.lang.en.English object at 0x000002240AD51860>\n",
      "4 <spacy.lang.en.English object at 0x000002240AD51860>\n",
      "0 <spacy.lang.en.English object at 0x000002240AD51860>\n",
      "0 <spacy.lang.en.English object at 0x000002240AD51860>\n",
      "5 <spacy.lang.en.English object at 0x000002240AD51860>\n",
      "1 <spacy.lang.en.English object at 0x000002240AD51860>\n",
      "6 <spacy.lang.en.English object at 0x000002240AD51860>\n",
      "1 <spacy.lang.en.English object at 0x000002240AD51860>\n",
      "7 <spacy.lang.en.English object at 0x000002240AD51860>\n"
     ]
    }
   ],
   "source": [
    "# number of proper nouns for all Answers (for each row in Answers)\n",
    "for row in KII_GOAL['Answers']:\n",
    "    print(proper_nouns(row), nlp)"
   ]
  },
  {
   "cell_type": "code",
   "execution_count": 125,
   "metadata": {},
   "outputs": [
    {
     "name": "stdout",
     "output_type": "stream",
     "text": [
      "25\n"
     ]
    }
   ],
   "source": [
    "# number of other nouns\n",
    "\n",
    "nlp = spacy.load('en_core_web_sm')\n",
    "\n",
    "# Returns number of other nouns\n",
    "def nouns(text, model=nlp):\n",
    "  \t# Create doc object\n",
    "    doc = model(text)\n",
    "    # Generate list of POS tags\n",
    "    pos = [token.pos_ for token in doc]\n",
    "    \n",
    "    # Return number of other nouns\n",
    "    return pos.count('NOUN')\n",
    "\n",
    "print(nouns(KII_GOAL['Answers'][0], nlp))"
   ]
  },
  {
   "cell_type": "code",
   "execution_count": 122,
   "metadata": {},
   "outputs": [
    {
     "name": "stdout",
     "output_type": "stream",
     "text": [
      "25 <spacy.lang.en.English object at 0x000002240AD51860>\n",
      "46 <spacy.lang.en.English object at 0x000002240AD51860>\n",
      "78 <spacy.lang.en.English object at 0x000002240AD51860>\n",
      "45 <spacy.lang.en.English object at 0x000002240AD51860>\n",
      "33 <spacy.lang.en.English object at 0x000002240AD51860>\n",
      "18 <spacy.lang.en.English object at 0x000002240AD51860>\n",
      "6 <spacy.lang.en.English object at 0x000002240AD51860>\n",
      "27 <spacy.lang.en.English object at 0x000002240AD51860>\n",
      "7 <spacy.lang.en.English object at 0x000002240AD51860>\n",
      "0 <spacy.lang.en.English object at 0x000002240AD51860>\n",
      "4 <spacy.lang.en.English object at 0x000002240AD51860>\n",
      "13 <spacy.lang.en.English object at 0x000002240AD51860>\n",
      "29 <spacy.lang.en.English object at 0x000002240AD51860>\n",
      "2 <spacy.lang.en.English object at 0x000002240AD51860>\n",
      "17 <spacy.lang.en.English object at 0x000002240AD51860>\n",
      "21 <spacy.lang.en.English object at 0x000002240AD51860>\n",
      "11 <spacy.lang.en.English object at 0x000002240AD51860>\n",
      "29 <spacy.lang.en.English object at 0x000002240AD51860>\n",
      "20 <spacy.lang.en.English object at 0x000002240AD51860>\n"
     ]
    }
   ],
   "source": [
    "# number of other nouns for all Answers (for each row in Answers)\n",
    "for row in KII_GOAL['Answers']:\n",
    "    print(nouns(row), nlp)"
   ]
  },
  {
   "cell_type": "code",
   "execution_count": 126,
   "metadata": {},
   "outputs": [],
   "source": [
    "KII_GOAL['mean_of_proper_noun'] = KII_GOAL['Answers'].apply(proper_nouns)\n",
    "KII_GOAL['num_noun'] = KII_GOAL['Answers'].apply(nouns)"
   ]
  },
  {
   "cell_type": "code",
   "execution_count": 127,
   "metadata": {},
   "outputs": [
    {
     "data": {
      "text/html": [
       "<div>\n",
       "<style scoped>\n",
       "    .dataframe tbody tr th:only-of-type {\n",
       "        vertical-align: middle;\n",
       "    }\n",
       "\n",
       "    .dataframe tbody tr th {\n",
       "        vertical-align: top;\n",
       "    }\n",
       "\n",
       "    .dataframe thead th {\n",
       "        text-align: right;\n",
       "    }\n",
       "</style>\n",
       "<table border=\"1\" class=\"dataframe\">\n",
       "  <thead>\n",
       "    <tr style=\"text-align: right;\">\n",
       "      <th></th>\n",
       "      <th>Questions</th>\n",
       "      <th>Answers</th>\n",
       "      <th>mean_of_proper_noun</th>\n",
       "      <th>num_noun</th>\n",
       "    </tr>\n",
       "  </thead>\n",
       "  <tbody>\n",
       "    <tr>\n",
       "      <th>0</th>\n",
       "      <td>Project specific question on the activities 1 ...</td>\n",
       "      <td>activity carry require operate station supply ...</td>\n",
       "      <td>2</td>\n",
       "      <td>25</td>\n",
       "    </tr>\n",
       "    <tr>\n",
       "      <th>1</th>\n",
       "      <td>Project specific question on the activities  2...</td>\n",
       "      <td>laboratory Wash program well laboratory every ...</td>\n",
       "      <td>9</td>\n",
       "      <td>46</td>\n",
       "    </tr>\n",
       "    <tr>\n",
       "      <th>2</th>\n",
       "      <td>Project specific question on the activities 3 ...</td>\n",
       "      <td>every station one operate worker Hazano statio...</td>\n",
       "      <td>21</td>\n",
       "      <td>78</td>\n",
       "    </tr>\n",
       "    <tr>\n",
       "      <th>3</th>\n",
       "      <td>How have the hygiene awareness sessions been t...</td>\n",
       "      <td>health awareness session design reach benefici...</td>\n",
       "      <td>5</td>\n",
       "      <td>45</td>\n",
       "    </tr>\n",
       "    <tr>\n",
       "      <th>4</th>\n",
       "      <td>How do you select participants of the post-ses...</td>\n",
       "      <td>benefit water program work area choose accord ...</td>\n",
       "      <td>10</td>\n",
       "      <td>33</td>\n",
       "    </tr>\n",
       "    <tr>\n",
       "      <th>5</th>\n",
       "      <td>Have you experienced any issues scaling up the...</td>\n",
       "      <td>problem far preventive measure take term distr...</td>\n",
       "      <td>4</td>\n",
       "      <td>18</td>\n",
       "    </tr>\n",
       "    <tr>\n",
       "      <th>6</th>\n",
       "      <td>4.2 A What were the prior studies that were ma...</td>\n",
       "      <td>water program provide clean water target group...</td>\n",
       "      <td>0</td>\n",
       "      <td>6</td>\n",
       "    </tr>\n",
       "    <tr>\n",
       "      <th>7</th>\n",
       "      <td>4.2 How do you receive complaints from the com...</td>\n",
       "      <td>complaint receive complaint office organizatio...</td>\n",
       "      <td>11</td>\n",
       "      <td>27</td>\n",
       "    </tr>\n",
       "    <tr>\n",
       "      <th>8</th>\n",
       "      <td>4.4.B Did you sign a code of conduct? Which me...</td>\n",
       "      <td>yes sign code conduct mandatory procedure empl...</td>\n",
       "      <td>3</td>\n",
       "      <td>7</td>\n",
       "    </tr>\n",
       "    <tr>\n",
       "      <th>9</th>\n",
       "      <td>4.4.D Have you ever received training on PSEA?</td>\n",
       "      <td>yes</td>\n",
       "      <td>0</td>\n",
       "      <td>0</td>\n",
       "    </tr>\n",
       "    <tr>\n",
       "      <th>10</th>\n",
       "      <td>4.4.C\\nWhat would you do if confronted with a ...</td>\n",
       "      <td>protection generalization section organization...</td>\n",
       "      <td>5</td>\n",
       "      <td>4</td>\n",
       "    </tr>\n",
       "    <tr>\n",
       "      <th>11</th>\n",
       "      <td>4.5. B  Do project activities/methods of imple...</td>\n",
       "      <td>water program provide clean water support segm...</td>\n",
       "      <td>4</td>\n",
       "      <td>13</td>\n",
       "    </tr>\n",
       "    <tr>\n",
       "      <th>12</th>\n",
       "      <td>4.5.C How did you take into consideration any ...</td>\n",
       "      <td>yes consideration give example area network re...</td>\n",
       "      <td>0</td>\n",
       "      <td>29</td>\n",
       "    </tr>\n",
       "    <tr>\n",
       "      <th>13</th>\n",
       "      <td>6.4 Which actors (NGOs) do you collaborate with?</td>\n",
       "      <td>work currently overlap organization</td>\n",
       "      <td>0</td>\n",
       "      <td>2</td>\n",
       "    </tr>\n",
       "    <tr>\n",
       "      <th>14</th>\n",
       "      <td>6.1 What kind of coordination did you follow t...</td>\n",
       "      <td>organization provide support area meeting requ...</td>\n",
       "      <td>5</td>\n",
       "      <td>17</td>\n",
       "    </tr>\n",
       "    <tr>\n",
       "      <th>15</th>\n",
       "      <td>6.3 Is project assistance enough to cover need...</td>\n",
       "      <td>support provide somewhat adequate emergency pr...</td>\n",
       "      <td>1</td>\n",
       "      <td>21</td>\n",
       "    </tr>\n",
       "    <tr>\n",
       "      <th>16</th>\n",
       "      <td>6.4 How did you generally engage with any loca...</td>\n",
       "      <td>design project cooperation local authority car...</td>\n",
       "      <td>6</td>\n",
       "      <td>11</td>\n",
       "    </tr>\n",
       "    <tr>\n",
       "      <th>17</th>\n",
       "      <td>3.1-3.2 Describe the monitoring and reporting ...</td>\n",
       "      <td>monitoring team visit station weekly work gene...</td>\n",
       "      <td>1</td>\n",
       "      <td>29</td>\n",
       "    </tr>\n",
       "    <tr>\n",
       "      <th>18</th>\n",
       "      <td>3.4 Can you describe how your HQ provides remo...</td>\n",
       "      <td>main headquarters Syria city Harem monitoring ...</td>\n",
       "      <td>7</td>\n",
       "      <td>20</td>\n",
       "    </tr>\n",
       "  </tbody>\n",
       "</table>\n",
       "</div>"
      ],
      "text/plain": [
       "                                            Questions  \\\n",
       "0   Project specific question on the activities 1 ...   \n",
       "1   Project specific question on the activities  2...   \n",
       "2   Project specific question on the activities 3 ...   \n",
       "3   How have the hygiene awareness sessions been t...   \n",
       "4   How do you select participants of the post-ses...   \n",
       "5   Have you experienced any issues scaling up the...   \n",
       "6   4.2 A What were the prior studies that were ma...   \n",
       "7   4.2 How do you receive complaints from the com...   \n",
       "8   4.4.B Did you sign a code of conduct? Which me...   \n",
       "9     4.4.D Have you ever received training on PSEA?    \n",
       "10  4.4.C\\nWhat would you do if confronted with a ...   \n",
       "11  4.5. B  Do project activities/methods of imple...   \n",
       "12  4.5.C How did you take into consideration any ...   \n",
       "13   6.4 Which actors (NGOs) do you collaborate with?   \n",
       "14  6.1 What kind of coordination did you follow t...   \n",
       "15  6.3 Is project assistance enough to cover need...   \n",
       "16  6.4 How did you generally engage with any loca...   \n",
       "17  3.1-3.2 Describe the monitoring and reporting ...   \n",
       "18  3.4 Can you describe how your HQ provides remo...   \n",
       "\n",
       "                                              Answers  mean_of_proper_noun  \\\n",
       "0   activity carry require operate station supply ...                    2   \n",
       "1   laboratory Wash program well laboratory every ...                    9   \n",
       "2   every station one operate worker Hazano statio...                   21   \n",
       "3   health awareness session design reach benefici...                    5   \n",
       "4   benefit water program work area choose accord ...                   10   \n",
       "5   problem far preventive measure take term distr...                    4   \n",
       "6   water program provide clean water target group...                    0   \n",
       "7   complaint receive complaint office organizatio...                   11   \n",
       "8   yes sign code conduct mandatory procedure empl...                    3   \n",
       "9                                                 yes                    0   \n",
       "10  protection generalization section organization...                    5   \n",
       "11  water program provide clean water support segm...                    4   \n",
       "12  yes consideration give example area network re...                    0   \n",
       "13                work currently overlap organization                    0   \n",
       "14  organization provide support area meeting requ...                    5   \n",
       "15  support provide somewhat adequate emergency pr...                    1   \n",
       "16  design project cooperation local authority car...                    6   \n",
       "17  monitoring team visit station weekly work gene...                    1   \n",
       "18  main headquarters Syria city Harem monitoring ...                    7   \n",
       "\n",
       "    num_noun  \n",
       "0         25  \n",
       "1         46  \n",
       "2         78  \n",
       "3         45  \n",
       "4         33  \n",
       "5         18  \n",
       "6          6  \n",
       "7         27  \n",
       "8          7  \n",
       "9          0  \n",
       "10         4  \n",
       "11        13  \n",
       "12        29  \n",
       "13         2  \n",
       "14        17  \n",
       "15        21  \n",
       "16        11  \n",
       "17        29  \n",
       "18        20  "
      ]
     },
     "execution_count": 127,
     "metadata": {},
     "output_type": "execute_result"
    }
   ],
   "source": [
    "KII_GOAL"
   ]
  },
  {
   "cell_type": "code",
   "execution_count": 129,
   "metadata": {},
   "outputs": [],
   "source": [
    "# A proper noun is the special word that we use for a person, place or organization,\n",
    "# like John, Marie, London, France or Sony.\n",
    "\n",
    "# Compute mean of proper nouns\n",
    "mean_of_proper_noun = KII_GOAL['mean_of_proper_noun'].mean()\n",
    "\n",
    "# Compute mean of other nouns\n",
    "mean_of_other_noun = KII_GOAL['num_noun'].mean()"
   ]
  },
  {
   "cell_type": "code",
   "execution_count": 130,
   "metadata": {},
   "outputs": [
    {
     "data": {
      "text/plain": [
       "4.947368421052632"
      ]
     },
     "execution_count": 130,
     "metadata": {},
     "output_type": "execute_result"
    }
   ],
   "source": [
    "# A proper noun is the special word that we use for a person, place or organization,\n",
    "# like John, Marie, London, France or Sony.\n",
    "# This mean_of_proper_noun can be put to great use in desgning fake news detectors.\n",
    "mean_of_proper_noun"
   ]
  },
  {
   "cell_type": "code",
   "execution_count": 131,
   "metadata": {},
   "outputs": [
    {
     "data": {
      "text/plain": [
       "22.68421052631579"
      ]
     },
     "execution_count": 131,
     "metadata": {},
     "output_type": "execute_result"
    }
   ],
   "source": [
    "# Compute mean of other nouns\n",
    "mean_of_other_noun"
   ]
  },
  {
   "cell_type": "code",
   "execution_count": 85,
   "metadata": {},
   "outputs": [],
   "source": [
    "# This mean_of_proper_noun can be put to great use in desgning fake news detectors."
   ]
  },
  {
   "cell_type": "code",
   "execution_count": 116,
   "metadata": {},
   "outputs": [
    {
     "data": {
      "image/jpeg": "[encoded data removed]",
      "text/plain": [
       "<IPython.core.display.Image object>"
      ]
     },
     "execution_count": 116,
     "metadata": {
      "image/jpeg": {
       "height": 400,
       "width": 400
      }
     },
     "output_type": "execute_result"
    }
   ],
   "source": [
    "# Named entities in a sentence ass follow:\n",
    "\n",
    "Image(filename='c:/Users/LENOVO/Desktop/des.jpg', width=400, height=400)"
   ]
  },
  {
   "cell_type": "code",
   "execution_count": 89,
   "metadata": {},
   "outputs": [
    {
     "name": "stdout",
     "output_type": "stream",
     "text": [
      "WhatsApp ORG\n"
     ]
    }
   ],
   "source": [
    "# Named entities in a sentence\n",
    "# Load the required model\n",
    "nlp = spacy.load('en_core_web_sm')\n",
    "\n",
    "# Create a Doc instance \n",
    "doc = nlp(KII_GOAL['Answers'][0])\n",
    "\n",
    "# Print all named entities and their labels\n",
    "for ent in doc.ents:\n",
    "    print(ent.text, ent.label_)"
   ]
  },
  {
   "cell_type": "code",
   "execution_count": 90,
   "metadata": {},
   "outputs": [
    {
     "name": "stdout",
     "output_type": "stream",
     "text": [
      "weekly DATE\n",
      "daily DATE\n",
      "Monday DATE\n",
      "February DATE\n",
      "hour hour TIME\n"
     ]
    }
   ],
   "source": [
    "# Named entities in a sentence\n",
    "# Load the required model\n",
    "nlp = spacy.load('en_core_web_sm')\n",
    "\n",
    "# Create a Doc instance \n",
    "doc = nlp(KII_GOAL['Answers'][1])\n",
    "\n",
    "# Print all named entities and their labels\n",
    "for ent in doc.ents:\n",
    "    print(ent.text, ent.label_)"
   ]
  },
  {
   "cell_type": "code",
   "execution_count": 91,
   "metadata": {},
   "outputs": [
    {
     "name": "stdout",
     "output_type": "stream",
     "text": [
      "one CARDINAL\n",
      "Hazano ORG\n",
      "three CARDINAL\n",
      "one CARDINAL\n",
      "ATC ORG\n",
      "day DATE\n"
     ]
    }
   ],
   "source": [
    "# Named entities in a sentence\n",
    "# Load the required model\n",
    "nlp = spacy.load('en_core_web_sm')\n",
    "\n",
    "# Create a Doc instance \n",
    "doc = nlp(KII_GOAL['Answers'][2])\n",
    "\n",
    "# Print all named entities and their labels\n",
    "for ent in doc.ents:\n",
    "    print(ent.text, ent.label_)"
   ]
  },
  {
   "cell_type": "code",
   "execution_count": 92,
   "metadata": {},
   "outputs": [
    {
     "name": "stdout",
     "output_type": "stream",
     "text": [
      "IDP ORG\n",
      "GOAL ORG\n"
     ]
    }
   ],
   "source": [
    "# Named entities in a sentence\n",
    "# Load the required model\n",
    "nlp = spacy.load('en_core_web_sm')\n",
    "\n",
    "# Create a Doc instance \n",
    "doc = nlp(KII_GOAL['Answers'][3])\n",
    "\n",
    "# Print all named entities and their labels\n",
    "for ent in doc.ents:\n",
    "    print(ent.text, ent.label_)"
   ]
  },
  {
   "cell_type": "code",
   "execution_count": 93,
   "metadata": {},
   "outputs": [
    {
     "name": "stdout",
     "output_type": "stream",
     "text": [
      "WhatsApp ORG\n"
     ]
    }
   ],
   "source": [
    "# Named entities in a sentence\n",
    "# Load the required model\n",
    "nlp = spacy.load('en_core_web_sm')\n",
    "\n",
    "# Create a Doc instance \n",
    "doc = nlp(KII_GOAL['Answers'][5])\n",
    "\n",
    "# Print all named entities and their labels\n",
    "for ent in doc.ents:\n",
    "    print(ent.text, ent.label_)"
   ]
  },
  {
   "cell_type": "code",
   "execution_count": 94,
   "metadata": {},
   "outputs": [
    {
     "name": "stdout",
     "output_type": "stream",
     "text": [
      "complaint receive complaint office organization Community Communication Department Water Program ORG\n",
      "complaint department ORG\n"
     ]
    }
   ],
   "source": [
    "# Load the required model\n",
    "nlp = spacy.load('en_core_web_sm')\n",
    "\n",
    "# Create a Doc instance \n",
    "doc = nlp(KII_GOAL['Answers'][7])\n",
    "\n",
    "# Print all named entities and their labels\n",
    "for ent in doc.ents:\n",
    "    print(ent.text, ent.label_)"
   ]
  },
  {
   "cell_type": "code",
   "execution_count": 95,
   "metadata": {},
   "outputs": [
    {
     "name": "stdout",
     "output_type": "stream",
     "text": [
      "daily DATE\n"
     ]
    }
   ],
   "source": [
    "# Named entities in a sentence\n",
    "# Load the required model\n",
    "nlp = spacy.load('en_core_web_sm')\n",
    "\n",
    "# Create a Doc instance \n",
    "doc = nlp(KII_GOAL['Answers'][8])\n",
    "\n",
    "# Print all named entities and their labels\n",
    "for ent in doc.ents:\n",
    "    print(ent.text, ent.label_)"
   ]
  },
  {
   "cell_type": "code",
   "execution_count": 96,
   "metadata": {},
   "outputs": [
    {
     "name": "stdout",
     "output_type": "stream",
     "text": [
      "GOAL ORG\n",
      "GOAL ORG\n"
     ]
    }
   ],
   "source": [
    "# Named entities in a sentence\n",
    "# Load the required model\n",
    "nlp = spacy.load('en_core_web_sm')\n",
    "\n",
    "# Create a Doc instance \n",
    "doc = nlp(KII_GOAL['Answers'][14])\n",
    "\n",
    "# Print all named entities and their labels\n",
    "for ent in doc.ents:\n",
    "    print(ent.text, ent.label_)"
   ]
  },
  {
   "cell_type": "code",
   "execution_count": 97,
   "metadata": {},
   "outputs": [
    {
     "name": "stdout",
     "output_type": "stream",
     "text": [
      "Sphere ORG\n"
     ]
    }
   ],
   "source": [
    "# Named entities in a sentence\n",
    "# Load the required model\n",
    "nlp = spacy.load('en_core_web_sm')\n",
    "\n",
    "# Create a Doc instance \n",
    "doc = nlp(KII_GOAL['Answers'][15])\n",
    "\n",
    "# Print all named entities and their labels\n",
    "for ent in doc.ents:\n",
    "    print(ent.text, ent.label_)"
   ]
  },
  {
   "cell_type": "code",
   "execution_count": 98,
   "metadata": {},
   "outputs": [
    {
     "name": "stdout",
     "output_type": "stream",
     "text": [
      "weekly DATE\n",
      "monthly DATE\n",
      "WASH ORG\n"
     ]
    }
   ],
   "source": [
    "# Named entities in a sentence\n",
    "# Load the required model\n",
    "nlp = spacy.load('en_core_web_sm')\n",
    "\n",
    "# Create a Doc instance \n",
    "doc = nlp(KII_GOAL['Answers'][17])\n",
    "\n",
    "# Print all named entities and their labels\n",
    "for ent in doc.ents:\n",
    "    print(ent.text, ent.label_)"
   ]
  },
  {
   "cell_type": "code",
   "execution_count": 99,
   "metadata": {},
   "outputs": [
    {
     "name": "stdout",
     "output_type": "stream",
     "text": [
      "Syria GPE\n",
      "Harem NORP\n",
      "WASH ORG\n",
      "Turkey GPE\n",
      "daily DATE\n",
      "Syria GPE\n"
     ]
    }
   ],
   "source": [
    "# Named entities in a sentence\n",
    "# Load the required model\n",
    "nlp = spacy.load('en_core_web_sm')\n",
    "\n",
    "# Create a Doc instance \n",
    "doc = nlp(KII_GOAL['Answers'][18])\n",
    "\n",
    "# Print all named entities and their labels\n",
    "for ent in doc.ents:\n",
    "    print(ent.text, ent.label_)"
   ]
  },
  {
   "cell_type": "code",
   "execution_count": 100,
   "metadata": {},
   "outputs": [
    {
     "name": "stdout",
     "output_type": "stream",
     "text": [
      "[]\n"
     ]
    }
   ],
   "source": [
    "# Finding PERSONS name:\n",
    "def find_persons(text):\n",
    "  # Create Doc object\n",
    "  doc = nlp(text)\n",
    "  \n",
    "  # Identify the persons\n",
    "  persons = [ent.text for ent in doc.ents if ent.label_ == 'PERSON']\n",
    "  \n",
    "  # Return persons\n",
    "  return persons\n",
    "\n",
    "print(find_persons(KII_GOAL['Answers'][0]))"
   ]
  },
  {
   "cell_type": "code",
   "execution_count": 101,
   "metadata": {
    "scrolled": true
   },
   "outputs": [
    {
     "name": "stdout",
     "output_type": "stream",
     "text": [
      "[]\n",
      "[]\n",
      "[]\n",
      "[]\n",
      "[]\n",
      "[]\n",
      "[]\n",
      "[]\n",
      "[]\n",
      "[]\n",
      "[]\n",
      "[]\n",
      "[]\n",
      "[]\n",
      "[]\n",
      "[]\n",
      "[]\n",
      "[]\n",
      "[]\n"
     ]
    }
   ],
   "source": [
    "# There are no PERSONS name in the Answers\n",
    "for row in KII_GOAL.Answers:\n",
    "    print(find_persons(row))"
   ]
  },
  {
   "cell_type": "code",
   "execution_count": 102,
   "metadata": {},
   "outputs": [
    {
     "name": "stdout",
     "output_type": "stream",
     "text": [
      "(19, 335)\n"
     ]
    }
   ],
   "source": [
    "# Import CountVectorizer\n",
    "from sklearn.feature_extraction.text import CountVectorizer\n",
    "\n",
    "# Create CountVectorizer object\n",
    "vectorizer = CountVectorizer()\n",
    "\n",
    "# Generate matrix of word vectors\n",
    "bow_matrix = vectorizer.fit_transform(KII_GOAL['Answers'])\n",
    "\n",
    "# Print the shape of bow_matrix\n",
    "print(bow_matrix.shape)"
   ]
  },
  {
   "cell_type": "code",
   "execution_count": 108,
   "metadata": {},
   "outputs": [
    {
     "name": "stdout",
     "output_type": "stream",
     "text": [
      "   activity  affect  carry  delay  field  follow  fuel  implementation  \\\n",
      "0         3       1      1      1      1       2     2               1   \n",
      "\n",
      "   infrastructure  inventory  ...  reduce  require  station  supply  time  \\\n",
      "0               1          1  ...       1        2        2       1     1   \n",
      "\n",
      "   via  visit  whatsapp  within  work  \n",
      "0    1      1         1       1     1  \n",
      "\n",
      "[1 rows x 31 columns]\n"
     ]
    }
   ],
   "source": [
    "# Word vectors with a given vocabulary:\n",
    "#each value in the vector corresponds to the \n",
    "#frequency of the corresponding word in the vocabulary\n",
    "\n",
    "# Create CountVectorizer object\n",
    "vectorizer = CountVectorizer()\n",
    "\n",
    "# Generate matrix of word vectors\n",
    "bow_matrix = vectorizer.fit_transform(KII_GOAL['Answers'][[0]])\n",
    "\n",
    "# Convert bow_matrix into a DataFrame\n",
    "bow_df = pd.DataFrame(bow_matrix.toarray())\n",
    "\n",
    "# Map the column names to vocabulary \n",
    "bow_df.columns = vectorizer.get_feature_names()\n",
    "\n",
    "# Print bow_df\n",
    "print(bow_df)"
   ]
  },
  {
   "cell_type": "code",
   "execution_count": 113,
   "metadata": {},
   "outputs": [
    {
     "name": "stdout",
     "output_type": "stream",
     "text": [
      "   administration  amount  basis  beneficiary  capita  chlorine  collect  \\\n",
      "0               1       1      1            1       1         1        1   \n",
      "\n",
      "   colony  daily  datum  ...  start  station  submit  turbidity  unit  wash  \\\n",
      "0       1      1      1  ...      2        3       2          1     1     1   \n",
      "\n",
      "   water  weekly  well  work  \n",
      "0      5       2     2     1  \n",
      "\n",
      "[1 rows x 48 columns]\n"
     ]
    }
   ],
   "source": [
    "# Word vectors with a given vocabulary:\n",
    "#each value in the vector corresponds to the \n",
    "#frequency of the corresponding word in the vocabulary\n",
    "\n",
    "# Create CountVectorizer object\n",
    "vectorizer = CountVectorizer()\n",
    "\n",
    "# Generate matrix of word vectors\n",
    "bow_matrix = vectorizer.fit_transform(KII_GOAL['Answers'][[1]])\n",
    "\n",
    "# Convert bow_matrix into a DataFrame\n",
    "bow_df = pd.DataFrame(bow_matrix.toarray())\n",
    "\n",
    "# Map the column names to vocabulary \n",
    "bow_df.columns = vectorizer.get_feature_names()\n",
    "\n",
    "# Print bow_df\n",
    "print(bow_df)"
   ]
  },
  {
   "cell_type": "code",
   "execution_count": 114,
   "metadata": {},
   "outputs": [
    {
     "name": "stdout",
     "output_type": "stream",
     "text": [
      "   accord  addition  administration  advertisement  announce  announcement  \\\n",
      "0       1         1               1              1         1             1   \n",
      "\n",
      "   applicant  application  appoint  approval  ...  train  unit  upon  water  \\\n",
      "0          4            2        1         2  ...      1     4     1      5   \n",
      "\n",
      "   well  within  work  worker  workload  write  \n",
      "0     2       1     1       2         1      1  \n",
      "\n",
      "[1 rows x 98 columns]\n"
     ]
    }
   ],
   "source": [
    "# Word vectors with a given vocabulary:\n",
    "#each value in the vector corresponds to the \n",
    "#frequency of the corresponding word in the vocabulary\n",
    "\n",
    "# Create CountVectorizer object\n",
    "vectorizer = CountVectorizer()\n",
    "\n",
    "# Generate matrix of word vectors\n",
    "bow_matrix = vectorizer.fit_transform(KII_GOAL['Answers'][[2]])\n",
    "\n",
    "# Convert bow_matrix into a DataFrame\n",
    "bow_df = pd.DataFrame(bow_matrix.toarray())\n",
    "\n",
    "# Map the column names to vocabulary \n",
    "bow_df.columns = vectorizer.get_feature_names()\n",
    "\n",
    "# Print bow_df\n",
    "print(bow_df)"
   ]
  },
  {
   "cell_type": "code",
   "execution_count": 115,
   "metadata": {},
   "outputs": [
    {
     "name": "stdout",
     "output_type": "stream",
     "text": [
      "   addition  age  among  approach  area  awareness  beneficiary  community  \\\n",
      "0         1    4      1         1     2          2            2          1   \n",
      "\n",
      "   conduct  deliver  ...  small  station  target  team  unit  use  visit  \\\n",
      "0        1        1  ...      1        1       2     1     1    1      1   \n",
      "\n",
      "   water  woman  work  \n",
      "0      1      1     1  \n",
      "\n",
      "[1 rows x 45 columns]\n"
     ]
    }
   ],
   "source": [
    "# Word vectors with a given vocabulary:\n",
    "#each value in the vector corresponds to the \n",
    "#frequency of the corresponding word in the vocabulary\n",
    "\n",
    "# Create CountVectorizer object\n",
    "vectorizer = CountVectorizer()\n",
    "\n",
    "# Generate matrix of word vectors\n",
    "bow_matrix = vectorizer.fit_transform(KII_GOAL['Answers'][[3]])\n",
    "\n",
    "# Convert bow_matrix into a DataFrame\n",
    "bow_df = pd.DataFrame(bow_matrix.toarray())\n",
    "\n",
    "# Map the column names to vocabulary \n",
    "bow_df.columns = vectorizer.get_feature_names()\n",
    "\n",
    "# Print bow_df\n",
    "print(bow_df)"
   ]
  },
  {
   "cell_type": "code",
   "execution_count": 134,
   "metadata": {},
   "outputs": [
    {
     "data": {
      "image/png": "[encoded data removed]",
      "text/plain": [
       "<Figure size 432x288 with 1 Axes>"
      ]
     },
     "metadata": {
      "needs_background": "light"
     },
     "output_type": "display_data"
    }
   ],
   "source": [
    "# Import the necessary modules\n",
    "from nltk.tokenize import regexp_tokenize\n",
    "from nltk.tokenize import TweetTokenizer\n",
    "\n",
    "import re \n",
    "import matplotlib.pyplot as plt\n",
    "# Split the script into lines: lines\n",
    "lines = KII_GOAL['Answers'][0].split('\\n')\n",
    "\n",
    "# Replace all script lines for speaker\n",
    "pattern = \"[A-Z]{2,}(\\s)?(#\\d)?([A-Z]{2,})?:\"\n",
    "lines = [re.sub(pattern, '', l) for l in lines]\n",
    "\n",
    "# Tokenize each line: tokenized_lines\n",
    "tokenized_lines = [regexp_tokenize(s, \"\\w+\") for s in lines]\n",
    "\n",
    "# Make a frequency list of lengths: line_num_words\n",
    "line_num_words = [len(t_line) for t_line in tokenized_lines]\n",
    "\n",
    "# Plot a histogram of the line lengths\n",
    "plt.hist(line_num_words)\n",
    "\n",
    "# Show the plot\n",
    "plt.show()"
   ]
  },
  {
   "cell_type": "code",
   "execution_count": 135,
   "metadata": {},
   "outputs": [
    {
     "data": {
      "image/png": "[encoded data removed]",
      "text/plain": [
       "<Figure size 432x288 with 1 Axes>"
      ]
     },
     "metadata": {
      "needs_background": "light"
     },
     "output_type": "display_data"
    }
   ],
   "source": [
    "# Split the script into lines: lines\n",
    "lines = KII_GOAL['Answers'][1].split('\\n')\n",
    "\n",
    "# Replace all script lines for speaker\n",
    "pattern = \"[A-Z]{2,}(\\s)?(#\\d)?([A-Z]{2,})?:\"\n",
    "lines = [re.sub(pattern, '', l) for l in lines]\n",
    "\n",
    "# Tokenize each line: tokenized_lines\n",
    "tokenized_lines = [regexp_tokenize(s, \"\\w+\") for s in lines]\n",
    "\n",
    "# Make a frequency list of lengths: line_num_words\n",
    "line_num_words = [len(t_line) for t_line in tokenized_lines]\n",
    "\n",
    "# Plot a histogram of the line lengths\n",
    "plt.hist(line_num_words)\n",
    "\n",
    "# Show the plot\n",
    "plt.show()"
   ]
  },
  {
   "cell_type": "code",
   "execution_count": 136,
   "metadata": {},
   "outputs": [
    {
     "name": "stdout",
     "output_type": "stream",
     "text": [
      "[('activity', 3), ('require', 2), ('station', 2), ('fuel', 2), ('follow', 2), ('carry', 1), ('operate', 1), ('supply', 1), ('oil', 1), ('periodic', 1)]\n"
     ]
    }
   ],
   "source": [
    "# Import Counter\n",
    "from collections import Counter\n",
    "import nltk\n",
    "from nltk import word_tokenize\n",
    "\n",
    "# Tokenize the article: tokens\n",
    "tokens = word_tokenize(KII_GOAL['Answers'][0])\n",
    "\n",
    "# Convert the tokens into lowercase: lower_tokens\n",
    "lower_tokens = [t.lower() for t in tokens]\n",
    "\n",
    "# Create a Counter with the lowercase tokens: bow_simple\n",
    "bow_simple = Counter(lower_tokens)\n",
    "\n",
    "# Print the 10 most common tokens\n",
    "print(bow_simple.most_common(10))\n"
   ]
  },
  {
   "cell_type": "code",
   "execution_count": 137,
   "metadata": {},
   "outputs": [
    {
     "name": "stdout",
     "output_type": "stream",
     "text": [
      "38.10526315789474\n"
     ]
    }
   ],
   "source": [
    "# Function that returns number of words in a string\n",
    "def count_words(string):\n",
    "\t# Split the string into words\n",
    "    words = string.split()\n",
    "    \n",
    "    # Return the number of words\n",
    "    return len(words)\n",
    "\n",
    "# Create a new feature word_count\n",
    "KII_GOAL['word_count'] = KII_GOAL['Answers'].apply(count_words)\n",
    "\n",
    "# Print the average word count of the talks\n",
    "print(KII_GOAL['word_count'].mean())"
   ]
  },
  {
   "cell_type": "code",
   "execution_count": 1,
   "metadata": {},
   "outputs": [],
   "source": [
    "import pandas as pd "
   ]
  },
  {
   "cell_type": "code",
   "execution_count": 2,
   "metadata": {},
   "outputs": [],
   "source": [
    "KII_GOAL = pd.read_excel('c:/Users/LENOVO/Desktop/KII_GOAL.xlsx')"
   ]
  },
  {
   "cell_type": "code",
   "execution_count": 3,
   "metadata": {},
   "outputs": [],
   "source": [
    "import plotly_express as px "
   ]
  },
  {
   "cell_type": "code",
   "execution_count": 5,
   "metadata": {},
   "outputs": [
    {
     "data": {
      "application/vnd.plotly.v1+json": {
       "config": {
        "plotlyServerURL": "https://plot.ly"
       },
       "data": [
        {
         "branchvalues": "total",
         "domain": {
          "x": [
           0,
           1
          ],
          "y": [
           0,
           1
          ]
         },
         "hovertemplate": "labels=%{label}<br>count=%{value}<br>parent=%{parent}<br>id=%{id}<extra></extra>",
         "ids": [
          "* Those who benefit from the water program work areas are chosen according to the available work, whether in schools if they work or not.\nFood distribution teams and their distribution areas and distribution plan as well as emergency distribution\nWith regard to visits to the gatherings of the displaced, they are carried out according to the reports of the establishment of a new center or gathering to be visited.\n\n* The survey is designed in the organization for the participants of the children and the sample is random and the approval of the parents and the school must be taken to conduct the questionnaire with them and without photographing taking into account the beneficiaries.\n",
          "All activities are carried out as required (operating stations - supplying fuel and oils - periodic fuel inventory - following up on maintenance - and following up on infrastructure projects ......)\nDuring the Covid-19 pandemic, field visits to stations were reduced as much as possible and some activities were pursued via WhatsApp, but this did not affect the quality of work and implementation of activities within the required time, meaning there is no delay.\n",
          "As for the water program (providing clean water), it targets all groups in society.",
          "Complaints are received by:\n1) The complaints office in the organization\n2) The Community Communication Department of the Water Program\n3) The administrative officer in the water unit\n4) By network monitors and stations workers\n\nAfter receiving the complaint, it is verified as correct and then work to resolve it within the available capabilities. I receive complaints emails from the direct manager who receive them from the complaints department and office, and I communicate with the unit with the e-mail forward. The complaint is validated and the means of solution and treatment are examined in the event that the complaint is proven true and, in the event, that it is not proven, the response is duly answered.\n",
          "Every station has one operating worker or more , and at Hazano station we have three operating employees and a network observer employee (according to the workload within the station and the number of operating hours) In addition to the network monitor, these workers have been trained to record pumping data as well as to receive complaints from beneficiaries and submit them to the organization.\nWhen there is need for employment:\n1) The job (job description with the required qualifications and experience) is announced through the social media pages of the water unit, as well as advertisements in local councils and in front of the mosques.\n2) The applicants place employment applications in a closed box in the water unit.\n3) After the announcement period has ended, the fund will be opened by a committee formed by the water program and the water unit, and job applications that meet the required specifications and qualifications will be selected.\n4) Corresponding councils should be contacted with the names of those invited for interviews and obtaining the approval from the council that there is no objection on any applicant.\n5) A committee from the program and the water unit is formed to conduct oral and written tests for the applicants, and then the marks are collected and the successful one determined.\n6) After that the procedures are completed (conflict of interest, ATC) and obtaining the approvals in order to appoint the successful applicant.\n7) The successful person is notified and the day of commencement is specified. Upon joining the work, the direct email of the program administration is raised.\n",
          "Health awareness sessions are designed to reach all beneficiaries of all ages and genders and to use all approaches and methods to deliver messages to the community. As for the participants, the schools are targeted with awareness sessions to reach the small age groups for both sexes and the sessions that are conducted with the food distribution teams to reach the beneficiaries of the older ages for both sexes, it is possible to resort to home visits or IDP gatherings to reach women of old ages.\nAs for the scope of these sessions, it is distributed among the employees of the organization at all levels, in addition to the water units, its stations, and the targeted areas, i.e. the areas that are being worked on by the GOAL organization.\n",
          "My work has not currently overlapped with any other organization.",
          "No, I have not had any problem so far, all preventive measures have been taken in terms of distributing sterilizers, masks and gloves to workers, and stressing not to shake hands as well as not receiving complaints inside the station (the complaint is received from the beneficiary via WhatsApp for example) as well as alerting workers to report directly In the event of any symptoms of Covid-19\nNo, I haven't had any issues regarding to Covid-19.\n",
          "The main headquarters in Syria is in the city of Harem, from which the monitoring teams start off on the ground in the field, and send reports on the status of water and network to WASH department.\nAnd the main office abroad in Turkey is daily aware of the work of the main office in Syria regarding the implementation of the project, and in my opinion this is sufficient.\nCurrently, the monitoring teams carry out their tasks taking into consideration all the necessary precautions against Covid-19.\n",
          "The monitoring team visits the stations weekly, and the work of the generation groups, pumps and tanks is monitored, in addition to conducting a questionnaire for the beneficiaries to find out the amount of water that the individual gets and the quality of the water produced through the network, and that is done on a monthly basis.\nTheir reports are submitted to the director of the monitoring program and then shared with WASH program, in order to work on avoiding the notes.\n",
          "The protection generalization section of the organization is notified, and it can also be reported by sending an email to speakup@goal.i in addition to the hotline Safecall.",
          "The support provided is somewhat adequate as an emergency project, but the amount of 25 liters per day per person (according to the Sphere standards) is somewhat small for our society, and often we receive requests to increase the amount of water per person.\nNow the organization provides approximately 35 liters of water per person per day as a result of increased support.\n",
          "The water program provides (clean water) support to all segments of society without discrimination, but with regard to the location of health awareness, the age groups as well as those with special needs are taken into account (for example distributing chairs for the disabled).",
          "There is a laboratory in the Wash program, as well as a laboratory in every water unit, where samples of water are collected from pumping stations and from the homes of beneficiaries, and the percentage of free remaining chlorine is measured, as well as turbidity and microbial colonies if any, and the measurement is done on a weekly basis. The laboratory employee submits a weekly report on the laboratory's work, and reports are submitted to the administration.\nAs for the per capita water share per day, it is obtained through the pumping data that the stations raise daily for the program every Monday with an amount of 35 liters of water per person.\nOn February 17-2020, Hazano station started pumping water, at a rate of 5 hours per day, and on 20/04/2020 it started increasing the number of pumping hours by 7 hours per day.\n",
          "When any other organization provides support for the same area, a meeting is requested with this organization and the support provided by the GOAL organization is explained and given options that it can support the same area so that it does not conflict with the support provided by GOAL (a network expansion project for example).\nIt did not happen at the stations that I supervise currently on them, but it happened on other stations supported by GOAL.\n",
          "When designing the project, cooperation with the local authorities is carried out in order to define the needs in the community and collect data on water stations, as well as when implementing some projects such as the expansion of networks, which are representative of the residents of the village, so the cooperating has been done with them and they have all the statistics.",
          "Yes",
          "Yes, I signed the code of conduct, which is a mandatory procedure for all (employees, daily employees, volunteers, contractors, visitors, and service providers).",
          "Yes, consideration was given to, for example: some areas where there is no network, residents are supported by tanks, where free water is provided from the station, while the beneficiary is responsible for the cost of transporting water to his home.\nAt the beginning of the work, the owners of the tanks were collected and the cost of transporting one barrel was determined, but after a while due to the high prices of fuel and the dollar, the meeting was held again with the owners of the tanks and updated the prices.\n"
         ],
         "labels": [
          "* Those who benefit from the water program work areas are chosen according to the available work, whether in schools if they work or not.\nFood distribution teams and their distribution areas and distribution plan as well as emergency distribution\nWith regard to visits to the gatherings of the displaced, they are carried out according to the reports of the establishment of a new center or gathering to be visited.\n\n* The survey is designed in the organization for the participants of the children and the sample is random and the approval of the parents and the school must be taken to conduct the questionnaire with them and without photographing taking into account the beneficiaries.\n",
          "All activities are carried out as required (operating stations - supplying fuel and oils - periodic fuel inventory - following up on maintenance - and following up on infrastructure projects ......)\nDuring the Covid-19 pandemic, field visits to stations were reduced as much as possible and some activities were pursued via WhatsApp, but this did not affect the quality of work and implementation of activities within the required time, meaning there is no delay.\n",
          "As for the water program (providing clean water), it targets all groups in society.",
          "Complaints are received by:\n1) The complaints office in the organization\n2) The Community Communication Department of the Water Program\n3) The administrative officer in the water unit\n4) By network monitors and stations workers\n\nAfter receiving the complaint, it is verified as correct and then work to resolve it within the available capabilities. I receive complaints emails from the direct manager who receive them from the complaints department and office, and I communicate with the unit with the e-mail forward. The complaint is validated and the means of solution and treatment are examined in the event that the complaint is proven true and, in the event, that it is not proven, the response is duly answered.\n",
          "Every station has one operating worker or more , and at Hazano station we have three operating employees and a network observer employee (according to the workload within the station and the number of operating hours) In addition to the network monitor, these workers have been trained to record pumping data as well as to receive complaints from beneficiaries and submit them to the organization.\nWhen there is need for employment:\n1) The job (job description with the required qualifications and experience) is announced through the social media pages of the water unit, as well as advertisements in local councils and in front of the mosques.\n2) The applicants place employment applications in a closed box in the water unit.\n3) After the announcement period has ended, the fund will be opened by a committee formed by the water program and the water unit, and job applications that meet the required specifications and qualifications will be selected.\n4) Corresponding councils should be contacted with the names of those invited for interviews and obtaining the approval from the council that there is no objection on any applicant.\n5) A committee from the program and the water unit is formed to conduct oral and written tests for the applicants, and then the marks are collected and the successful one determined.\n6) After that the procedures are completed (conflict of interest, ATC) and obtaining the approvals in order to appoint the successful applicant.\n7) The successful person is notified and the day of commencement is specified. Upon joining the work, the direct email of the program administration is raised.\n",
          "Health awareness sessions are designed to reach all beneficiaries of all ages and genders and to use all approaches and methods to deliver messages to the community. As for the participants, the schools are targeted with awareness sessions to reach the small age groups for both sexes and the sessions that are conducted with the food distribution teams to reach the beneficiaries of the older ages for both sexes, it is possible to resort to home visits or IDP gatherings to reach women of old ages.\nAs for the scope of these sessions, it is distributed among the employees of the organization at all levels, in addition to the water units, its stations, and the targeted areas, i.e. the areas that are being worked on by the GOAL organization.\n",
          "My work has not currently overlapped with any other organization.",
          "No, I have not had any problem so far, all preventive measures have been taken in terms of distributing sterilizers, masks and gloves to workers, and stressing not to shake hands as well as not receiving complaints inside the station (the complaint is received from the beneficiary via WhatsApp for example) as well as alerting workers to report directly In the event of any symptoms of Covid-19\nNo, I haven't had any issues regarding to Covid-19.\n",
          "The main headquarters in Syria is in the city of Harem, from which the monitoring teams start off on the ground in the field, and send reports on the status of water and network to WASH department.\nAnd the main office abroad in Turkey is daily aware of the work of the main office in Syria regarding the implementation of the project, and in my opinion this is sufficient.\nCurrently, the monitoring teams carry out their tasks taking into consideration all the necessary precautions against Covid-19.\n",
          "The monitoring team visits the stations weekly, and the work of the generation groups, pumps and tanks is monitored, in addition to conducting a questionnaire for the beneficiaries to find out the amount of water that the individual gets and the quality of the water produced through the network, and that is done on a monthly basis.\nTheir reports are submitted to the director of the monitoring program and then shared with WASH program, in order to work on avoiding the notes.\n",
          "The protection generalization section of the organization is notified, and it can also be reported by sending an email to speakup@goal.i in addition to the hotline Safecall.",
          "The support provided is somewhat adequate as an emergency project, but the amount of 25 liters per day per person (according to the Sphere standards) is somewhat small for our society, and often we receive requests to increase the amount of water per person.\nNow the organization provides approximately 35 liters of water per person per day as a result of increased support.\n",
          "The water program provides (clean water) support to all segments of society without discrimination, but with regard to the location of health awareness, the age groups as well as those with special needs are taken into account (for example distributing chairs for the disabled).",
          "There is a laboratory in the Wash program, as well as a laboratory in every water unit, where samples of water are collected from pumping stations and from the homes of beneficiaries, and the percentage of free remaining chlorine is measured, as well as turbidity and microbial colonies if any, and the measurement is done on a weekly basis. The laboratory employee submits a weekly report on the laboratory's work, and reports are submitted to the administration.\nAs for the per capita water share per day, it is obtained through the pumping data that the stations raise daily for the program every Monday with an amount of 35 liters of water per person.\nOn February 17-2020, Hazano station started pumping water, at a rate of 5 hours per day, and on 20/04/2020 it started increasing the number of pumping hours by 7 hours per day.\n",
          "When any other organization provides support for the same area, a meeting is requested with this organization and the support provided by the GOAL organization is explained and given options that it can support the same area so that it does not conflict with the support provided by GOAL (a network expansion project for example).\nIt did not happen at the stations that I supervise currently on them, but it happened on other stations supported by GOAL.\n",
          "When designing the project, cooperation with the local authorities is carried out in order to define the needs in the community and collect data on water stations, as well as when implementing some projects such as the expansion of networks, which are representative of the residents of the village, so the cooperating has been done with them and they have all the statistics.",
          "Yes",
          "Yes, I signed the code of conduct, which is a mandatory procedure for all (employees, daily employees, volunteers, contractors, visitors, and service providers).",
          "Yes, consideration was given to, for example: some areas where there is no network, residents are supported by tanks, where free water is provided from the station, while the beneficiary is responsible for the cost of transporting water to his home.\nAt the beginning of the work, the owners of the tanks were collected and the cost of transporting one barrel was determined, but after a while due to the high prices of fuel and the dollar, the meeting was held again with the owners of the tanks and updated the prices.\n"
         ],
         "name": "",
         "parents": [
          "",
          "",
          "",
          "",
          "",
          "",
          "",
          "",
          "",
          "",
          "",
          "",
          "",
          "",
          "",
          "",
          "",
          "",
          ""
         ],
         "type": "treemap",
         "values": [
          1,
          1,
          1,
          1,
          1,
          1,
          1,
          1,
          1,
          1,
          1,
          1,
          1,
          1,
          1,
          1,
          1,
          1,
          1
         ]
        }
       ],
       "layout": {
        "legend": {
         "tracegroupgap": 0
        },
        "template": {
         "data": {
          "bar": [
           {
            "error_x": {
             "color": "#2a3f5f"
            },
            "error_y": {
             "color": "#2a3f5f"
            },
            "marker": {
             "line": {
              "color": "#E5ECF6",
              "width": 0.5
             }
            },
            "type": "bar"
           }
          ],
          "barpolar": [
           {
            "marker": {
             "line": {
              "color": "#E5ECF6",
              "width": 0.5
             }
            },
            "type": "barpolar"
           }
          ],
          "carpet": [
           {
            "aaxis": {
             "endlinecolor": "#2a3f5f",
             "gridcolor": "white",
             "linecolor": "white",
             "minorgridcolor": "white",
             "startlinecolor": "#2a3f5f"
            },
            "baxis": {
             "endlinecolor": "#2a3f5f",
             "gridcolor": "white",
             "linecolor": "white",
             "minorgridcolor": "white",
             "startlinecolor": "#2a3f5f"
            },
            "type": "carpet"
           }
          ],
          "choropleth": [
           {
            "colorbar": {
             "outlinewidth": 0,
             "ticks": ""
            },
            "type": "choropleth"
           }
          ],
          "contour": [
           {
            "colorbar": {
             "outlinewidth": 0,
             "ticks": ""
            },
            "colorscale": [
             [
              0,
              "#0d0887"
             ],
             [
              0.1111111111111111,
              "#46039f"
             ],
             [
              0.2222222222222222,
              "#7201a8"
             ],
             [
              0.3333333333333333,
              "#9c179e"
             ],
             [
              0.4444444444444444,
              "#bd3786"
             ],
             [
              0.5555555555555556,
              "#d8576b"
             ],
             [
              0.6666666666666666,
              "#ed7953"
             ],
             [
              0.7777777777777778,
              "#fb9f3a"
             ],
             [
              0.8888888888888888,
              "#fdca26"
             ],
             [
              1,
              "#f0f921"
             ]
            ],
            "type": "contour"
           }
          ],
          "contourcarpet": [
           {
            "colorbar": {
             "outlinewidth": 0,
             "ticks": ""
            },
            "type": "contourcarpet"
           }
          ],
          "heatmap": [
           {
            "colorbar": {
             "outlinewidth": 0,
             "ticks": ""
            },
            "colorscale": [
             [
              0,
              "#0d0887"
             ],
             [
              0.1111111111111111,
              "#46039f"
             ],
             [
              0.2222222222222222,
              "#7201a8"
             ],
             [
              0.3333333333333333,
              "#9c179e"
             ],
             [
              0.4444444444444444,
              "#bd3786"
             ],
             [
              0.5555555555555556,
              "#d8576b"
             ],
             [
              0.6666666666666666,
              "#ed7953"
             ],
             [
              0.7777777777777778,
              "#fb9f3a"
             ],
             [
              0.8888888888888888,
              "#fdca26"
             ],
             [
              1,
              "#f0f921"
             ]
            ],
            "type": "heatmap"
           }
          ],
          "heatmapgl": [
           {
            "colorbar": {
             "outlinewidth": 0,
             "ticks": ""
            },
            "colorscale": [
             [
              0,
              "#0d0887"
             ],
             [
              0.1111111111111111,
              "#46039f"
             ],
             [
              0.2222222222222222,
              "#7201a8"
             ],
             [
              0.3333333333333333,
              "#9c179e"
             ],
             [
              0.4444444444444444,
              "#bd3786"
             ],
             [
              0.5555555555555556,
              "#d8576b"
             ],
             [
              0.6666666666666666,
              "#ed7953"
             ],
             [
              0.7777777777777778,
              "#fb9f3a"
             ],
             [
              0.8888888888888888,
              "#fdca26"
             ],
             [
              1,
              "#f0f921"
             ]
            ],
            "type": "heatmapgl"
           }
          ],
          "histogram": [
           {
            "marker": {
             "colorbar": {
              "outlinewidth": 0,
              "ticks": ""
             }
            },
            "type": "histogram"
           }
          ],
          "histogram2d": [
           {
            "colorbar": {
             "outlinewidth": 0,
             "ticks": ""
            },
            "colorscale": [
             [
              0,
              "#0d0887"
             ],
             [
              0.1111111111111111,
              "#46039f"
             ],
             [
              0.2222222222222222,
              "#7201a8"
             ],
             [
              0.3333333333333333,
              "#9c179e"
             ],
             [
              0.4444444444444444,
              "#bd3786"
             ],
             [
              0.5555555555555556,
              "#d8576b"
             ],
             [
              0.6666666666666666,
              "#ed7953"
             ],
             [
              0.7777777777777778,
              "#fb9f3a"
             ],
             [
              0.8888888888888888,
              "#fdca26"
             ],
             [
              1,
              "#f0f921"
             ]
            ],
            "type": "histogram2d"
           }
          ],
          "histogram2dcontour": [
           {
            "colorbar": {
             "outlinewidth": 0,
             "ticks": ""
            },
            "colorscale": [
             [
              0,
              "#0d0887"
             ],
             [
              0.1111111111111111,
              "#46039f"
             ],
             [
              0.2222222222222222,
              "#7201a8"
             ],
             [
              0.3333333333333333,
              "#9c179e"
             ],
             [
              0.4444444444444444,
              "#bd3786"
             ],
             [
              0.5555555555555556,
              "#d8576b"
             ],
             [
              0.6666666666666666,
              "#ed7953"
             ],
             [
              0.7777777777777778,
              "#fb9f3a"
             ],
             [
              0.8888888888888888,
              "#fdca26"
             ],
             [
              1,
              "#f0f921"
             ]
            ],
            "type": "histogram2dcontour"
           }
          ],
          "mesh3d": [
           {
            "colorbar": {
             "outlinewidth": 0,
             "ticks": ""
            },
            "type": "mesh3d"
           }
          ],
          "parcoords": [
           {
            "line": {
             "colorbar": {
              "outlinewidth": 0,
              "ticks": ""
             }
            },
            "type": "parcoords"
           }
          ],
          "pie": [
           {
            "automargin": true,
            "type": "pie"
           }
          ],
          "scatter": [
           {
            "marker": {
             "colorbar": {
              "outlinewidth": 0,
              "ticks": ""
             }
            },
            "type": "scatter"
           }
          ],
          "scatter3d": [
           {
            "line": {
             "colorbar": {
              "outlinewidth": 0,
              "ticks": ""
             }
            },
            "marker": {
             "colorbar": {
              "outlinewidth": 0,
              "ticks": ""
             }
            },
            "type": "scatter3d"
           }
          ],
          "scattercarpet": [
           {
            "marker": {
             "colorbar": {
              "outlinewidth": 0,
              "ticks": ""
             }
            },
            "type": "scattercarpet"
           }
          ],
          "scattergeo": [
           {
            "marker": {
             "colorbar": {
              "outlinewidth": 0,
              "ticks": ""
             }
            },
            "type": "scattergeo"
           }
          ],
          "scattergl": [
           {
            "marker": {
             "colorbar": {
              "outlinewidth": 0,
              "ticks": ""
             }
            },
            "type": "scattergl"
           }
          ],
          "scattermapbox": [
           {
            "marker": {
             "colorbar": {
              "outlinewidth": 0,
              "ticks": ""
             }
            },
            "type": "scattermapbox"
           }
          ],
          "scatterpolar": [
           {
            "marker": {
             "colorbar": {
              "outlinewidth": 0,
              "ticks": ""
             }
            },
            "type": "scatterpolar"
           }
          ],
          "scatterpolargl": [
           {
            "marker": {
             "colorbar": {
              "outlinewidth": 0,
              "ticks": ""
             }
            },
            "type": "scatterpolargl"
           }
          ],
          "scatterternary": [
           {
            "marker": {
             "colorbar": {
              "outlinewidth": 0,
              "ticks": ""
             }
            },
            "type": "scatterternary"
           }
          ],
          "surface": [
           {
            "colorbar": {
             "outlinewidth": 0,
             "ticks": ""
            },
            "colorscale": [
             [
              0,
              "#0d0887"
             ],
             [
              0.1111111111111111,
              "#46039f"
             ],
             [
              0.2222222222222222,
              "#7201a8"
             ],
             [
              0.3333333333333333,
              "#9c179e"
             ],
             [
              0.4444444444444444,
              "#bd3786"
             ],
             [
              0.5555555555555556,
              "#d8576b"
             ],
             [
              0.6666666666666666,
              "#ed7953"
             ],
             [
              0.7777777777777778,
              "#fb9f3a"
             ],
             [
              0.8888888888888888,
              "#fdca26"
             ],
             [
              1,
              "#f0f921"
             ]
            ],
            "type": "surface"
           }
          ],
          "table": [
           {
            "cells": {
             "fill": {
              "color": "#EBF0F8"
             },
             "line": {
              "color": "white"
             }
            },
            "header": {
             "fill": {
              "color": "#C8D4E3"
             },
             "line": {
              "color": "white"
             }
            },
            "type": "table"
           }
          ]
         },
         "layout": {
          "annotationdefaults": {
           "arrowcolor": "#2a3f5f",
           "arrowhead": 0,
           "arrowwidth": 1
          },
          "coloraxis": {
           "colorbar": {
            "outlinewidth": 0,
            "ticks": ""
           }
          },
          "colorscale": {
           "diverging": [
            [
             0,
             "#8e0152"
            ],
            [
             0.1,
             "#c51b7d"
            ],
            [
             0.2,
             "#de77ae"
            ],
            [
             0.3,
             "#f1b6da"
            ],
            [
             0.4,
             "#fde0ef"
            ],
            [
             0.5,
             "#f7f7f7"
            ],
            [
             0.6,
             "#e6f5d0"
            ],
            [
             0.7,
             "#b8e186"
            ],
            [
             0.8,
             "#7fbc41"
            ],
            [
             0.9,
             "#4d9221"
            ],
            [
             1,
             "#276419"
            ]
           ],
           "sequential": [
            [
             0,
             "#0d0887"
            ],
            [
             0.1111111111111111,
             "#46039f"
            ],
            [
             0.2222222222222222,
             "#7201a8"
            ],
            [
             0.3333333333333333,
             "#9c179e"
            ],
            [
             0.4444444444444444,
             "#bd3786"
            ],
            [
             0.5555555555555556,
             "#d8576b"
            ],
            [
             0.6666666666666666,
             "#ed7953"
            ],
            [
             0.7777777777777778,
             "#fb9f3a"
            ],
            [
             0.8888888888888888,
             "#fdca26"
            ],
            [
             1,
             "#f0f921"
            ]
           ],
           "sequentialminus": [
            [
             0,
             "#0d0887"
            ],
            [
             0.1111111111111111,
             "#46039f"
            ],
            [
             0.2222222222222222,
             "#7201a8"
            ],
            [
             0.3333333333333333,
             "#9c179e"
            ],
            [
             0.4444444444444444,
             "#bd3786"
            ],
            [
             0.5555555555555556,
             "#d8576b"
            ],
            [
             0.6666666666666666,
             "#ed7953"
            ],
            [
             0.7777777777777778,
             "#fb9f3a"
            ],
            [
             0.8888888888888888,
             "#fdca26"
            ],
            [
             1,
             "#f0f921"
            ]
           ]
          },
          "colorway": [
           "#636efa",
           "#EF553B",
           "#00cc96",
           "#ab63fa",
           "#FFA15A",
           "#19d3f3",
           "#FF6692",
           "#B6E880",
           "#FF97FF",
           "#FECB52"
          ],
          "font": {
           "color": "#2a3f5f"
          },
          "geo": {
           "bgcolor": "white",
           "lakecolor": "white",
           "landcolor": "#E5ECF6",
           "showlakes": true,
           "showland": true,
           "subunitcolor": "white"
          },
          "hoverlabel": {
           "align": "left"
          },
          "hovermode": "closest",
          "mapbox": {
           "style": "light"
          },
          "paper_bgcolor": "white",
          "plot_bgcolor": "#E5ECF6",
          "polar": {
           "angularaxis": {
            "gridcolor": "white",
            "linecolor": "white",
            "ticks": ""
           },
           "bgcolor": "#E5ECF6",
           "radialaxis": {
            "gridcolor": "white",
            "linecolor": "white",
            "ticks": ""
           }
          },
          "scene": {
           "xaxis": {
            "backgroundcolor": "#E5ECF6",
            "gridcolor": "white",
            "gridwidth": 2,
            "linecolor": "white",
            "showbackground": true,
            "ticks": "",
            "zerolinecolor": "white"
           },
           "yaxis": {
            "backgroundcolor": "#E5ECF6",
            "gridcolor": "white",
            "gridwidth": 2,
            "linecolor": "white",
            "showbackground": true,
            "ticks": "",
            "zerolinecolor": "white"
           },
           "zaxis": {
            "backgroundcolor": "#E5ECF6",
            "gridcolor": "white",
            "gridwidth": 2,
            "linecolor": "white",
            "showbackground": true,
            "ticks": "",
            "zerolinecolor": "white"
           }
          },
          "shapedefaults": {
           "line": {
            "color": "#2a3f5f"
           }
          },
          "ternary": {
           "aaxis": {
            "gridcolor": "white",
            "linecolor": "white",
            "ticks": ""
           },
           "baxis": {
            "gridcolor": "white",
            "linecolor": "white",
            "ticks": ""
           },
           "bgcolor": "#E5ECF6",
           "caxis": {
            "gridcolor": "white",
            "linecolor": "white",
            "ticks": ""
           }
          },
          "title": {
           "x": 0.05
          },
          "xaxis": {
           "automargin": true,
           "gridcolor": "white",
           "linecolor": "white",
           "ticks": "",
           "title": {
            "standoff": 15
           },
           "zerolinecolor": "white",
           "zerolinewidth": 2
          },
          "yaxis": {
           "automargin": true,
           "gridcolor": "white",
           "linecolor": "white",
           "ticks": "",
           "title": {
            "standoff": 15
           },
           "zerolinecolor": "white",
           "zerolinewidth": 2
          }
         }
        },
        "title": {
         "text": "Treemap chart"
        }
       }
      },
      "text/html": [
       "<div>\n",
       "        \n",
       "        \n",
       "            <div id=\"351c6559-ea29-4e42-8388-e88c9641138c\" class=\"plotly-graph-div\" style=\"height:525px; width:100%;\"></div>\n",
       "            <script type=\"text/javascript\">\n",
       "                require([\"plotly\"], function(Plotly) {\n",
       "                    window.PLOTLYENV=window.PLOTLYENV || {};\n",
       "                    \n",
       "                if (document.getElementById(\"351c6559-ea29-4e42-8388-e88c9641138c\")) {\n",
       "                    Plotly.newPlot(\n",
       "                        '351c6559-ea29-4e42-8388-e88c9641138c',\n",
       "                        [{\"branchvalues\": \"total\", \"domain\": {\"x\": [0.0, 1.0], \"y\": [0.0, 1.0]}, \"hovertemplate\": \"labels=%{label}<br>count=%{value}<br>parent=%{parent}<br>id=%{id}<extra></extra>\", \"ids\": [\"* Those who benefit from the water program work areas are chosen according to the available work, whether in schools if they work or not.\\nFood distribution teams and their distribution areas and distribution plan as well as emergency distribution\\nWith regard to visits to the gatherings of the displaced, they are carried out according to the reports of the establishment of a new center or gathering to be visited.\\n\\n* The survey is designed in the organization for the participants of the children and the sample is random and the approval of the parents and the school must be taken to conduct the questionnaire with them and without photographing taking into account the beneficiaries.\\n\", \"All activities are carried out as required (operating stations - supplying fuel and oils - periodic fuel inventory - following up on maintenance - and following up on infrastructure projects ......)\\nDuring the Covid-19 pandemic, field visits to stations were reduced as much as possible and some activities were pursued via WhatsApp, but this did not affect the quality of work and implementation of activities within the required time, meaning there is no delay.\\n\", \"As for the water program (providing clean water), it targets all groups in society.\", \"Complaints are received by:\\n1) The complaints office in the organization\\n2) The Community Communication Department of the Water Program\\n3) The administrative officer in the water unit\\n4) By network monitors and stations workers\\n\\nAfter receiving the complaint, it is verified as correct and then work to resolve it within the available capabilities. I receive complaints emails from the direct manager who receive them from the complaints department and office, and I communicate with the unit with the e-mail forward. The complaint is validated and the means of solution and treatment are examined in the event that the complaint is proven true and, in the event, that it is not proven, the response is duly answered.\\n\", \"Every station has one operating worker or more , and at Hazano station we have three operating employees and a network observer employee (according to the workload within the station and the number of operating hours) In addition to the network monitor, these workers have been trained to record pumping data as well as to receive complaints from beneficiaries and submit them to the organization.\\nWhen there is need for employment:\\n1) The job (job description with the required qualifications and experience) is announced through the social media pages of the water unit, as well as advertisements in local councils and in front of the mosques.\\n2) The applicants place employment applications in a closed box in the water unit.\\n3) After the announcement period has ended, the fund will be opened by a committee formed by the water program and the water unit, and job applications that meet the required specifications and qualifications will be selected.\\n4) Corresponding councils should be contacted with the names of those invited for interviews and obtaining the approval from the council that there is no objection on any applicant.\\n5) A committee from the program and the water unit is formed to conduct oral and written tests for the applicants, and then the marks are collected and the successful one determined.\\n6) After that the procedures are completed (conflict of interest, ATC) and obtaining the approvals in order to appoint the successful applicant.\\n7) The successful person is notified and the day of commencement is specified. Upon joining the work, the direct email of the program administration is raised.\\n\", \"Health awareness sessions are designed to reach all beneficiaries of all ages and genders and to use all approaches and methods to deliver messages to the community. As for the participants, the schools are targeted with awareness sessions to reach the small age groups for both sexes and the sessions that are conducted with the food distribution teams to reach the beneficiaries of the older ages for both sexes, it is possible to resort to home visits or IDP gatherings to reach women of old ages.\\nAs for the scope of these sessions, it is distributed among the employees of the organization at all levels, in addition to the water units, its stations, and the targeted areas, i.e. the areas that are being worked on by the GOAL organization.\\n\", \"My work has not currently overlapped with any other organization.\", \"No, I have not had any problem so far, all preventive measures have been taken in terms of distributing sterilizers, masks and gloves to workers, and stressing not to shake hands as well as not receiving complaints inside the station (the complaint is received from the beneficiary via WhatsApp for example) as well as alerting workers to report directly In the event of any symptoms of Covid-19\\nNo, I haven't had any issues regarding to Covid-19.\\n\", \"The main headquarters in Syria is in the city of Harem, from which the monitoring teams start off on the ground in the field, and send reports on the status of water and network to WASH department.\\nAnd the main office abroad in Turkey is daily aware of the work of the main office in Syria regarding the implementation of the project, and in my opinion this is sufficient.\\nCurrently, the monitoring teams carry out their tasks taking into consideration all the necessary precautions against Covid-19.\\n\", \"The monitoring team visits the stations weekly, and the work of the generation groups, pumps and tanks is monitored, in addition to conducting a questionnaire for the beneficiaries to find out the amount of water that the individual gets and the quality of the water produced through the network, and that is done on a monthly basis.\\nTheir reports are submitted to the director of the monitoring program and then shared with WASH program, in order to work on avoiding the notes.\\n\", \"The protection generalization section of the organization is notified, and it can also be reported by sending an email to speakup@goal.i in addition to the hotline Safecall.\", \"The support provided is somewhat adequate as an emergency project, but the amount of 25 liters per day per person (according to the Sphere standards) is somewhat small for our society, and often we receive requests to increase the amount of water per person.\\nNow the organization provides approximately 35 liters of water per person per day as a result of increased support.\\n\", \"The water program provides (clean water) support to all segments of society without discrimination, but with regard to the location of health awareness, the age groups as well as those with special needs are taken into account (for example distributing chairs for the disabled).\", \"There is a laboratory in the Wash program, as well as a laboratory in every water unit, where samples of water are collected from pumping stations and from the homes of beneficiaries, and the percentage of free remaining chlorine is measured, as well as turbidity and microbial colonies if any, and the measurement is done on a weekly basis. The laboratory employee submits a weekly report on the laboratory's work, and reports are submitted to the administration.\\nAs for the per capita water share per day, it is obtained through the pumping data that the stations raise daily for the program every Monday with an amount of 35 liters of water per person.\\nOn February 17-2020, Hazano station started pumping water, at a rate of 5 hours per day, and on 20/04/2020 it started increasing the number of pumping hours by 7 hours per day.\\n\", \"When any other organization provides support for the same area, a meeting is requested with this organization and the support provided by the GOAL organization is explained and given options that it can support the same area so that it does not conflict with the support provided by GOAL (a network expansion project for example).\\nIt did not happen at the stations that I supervise currently on them, but it happened on other stations supported by GOAL.\\n\", \"When designing the project, cooperation with the local authorities is carried out in order to define the needs in the community and collect data on water stations, as well as when implementing some projects such as the expansion of networks, which are representative of the residents of the village, so the cooperating has been done with them and they have all the statistics.\", \"Yes\", \"Yes, I signed the code of conduct, which is a mandatory procedure for all (employees, daily employees, volunteers, contractors, visitors, and service providers).\", \"Yes, consideration was given to, for example: some areas where there is no network, residents are supported by tanks, where free water is provided from the station, while the beneficiary is responsible for the cost of transporting water to his home.\\nAt the beginning of the work, the owners of the tanks were collected and the cost of transporting one barrel was determined, but after a while due to the high prices of fuel and the dollar, the meeting was held again with the owners of the tanks and updated the prices.\\n\"], \"labels\": [\"* Those who benefit from the water program work areas are chosen according to the available work, whether in schools if they work or not.\\nFood distribution teams and their distribution areas and distribution plan as well as emergency distribution\\nWith regard to visits to the gatherings of the displaced, they are carried out according to the reports of the establishment of a new center or gathering to be visited.\\n\\n* The survey is designed in the organization for the participants of the children and the sample is random and the approval of the parents and the school must be taken to conduct the questionnaire with them and without photographing taking into account the beneficiaries.\\n\", \"All activities are carried out as required (operating stations - supplying fuel and oils - periodic fuel inventory - following up on maintenance - and following up on infrastructure projects ......)\\nDuring the Covid-19 pandemic, field visits to stations were reduced as much as possible and some activities were pursued via WhatsApp, but this did not affect the quality of work and implementation of activities within the required time, meaning there is no delay.\\n\", \"As for the water program (providing clean water), it targets all groups in society.\", \"Complaints are received by:\\n1) The complaints office in the organization\\n2) The Community Communication Department of the Water Program\\n3) The administrative officer in the water unit\\n4) By network monitors and stations workers\\n\\nAfter receiving the complaint, it is verified as correct and then work to resolve it within the available capabilities. I receive complaints emails from the direct manager who receive them from the complaints department and office, and I communicate with the unit with the e-mail forward. The complaint is validated and the means of solution and treatment are examined in the event that the complaint is proven true and, in the event, that it is not proven, the response is duly answered.\\n\", \"Every station has one operating worker or more , and at Hazano station we have three operating employees and a network observer employee (according to the workload within the station and the number of operating hours) In addition to the network monitor, these workers have been trained to record pumping data as well as to receive complaints from beneficiaries and submit them to the organization.\\nWhen there is need for employment:\\n1) The job (job description with the required qualifications and experience) is announced through the social media pages of the water unit, as well as advertisements in local councils and in front of the mosques.\\n2) The applicants place employment applications in a closed box in the water unit.\\n3) After the announcement period has ended, the fund will be opened by a committee formed by the water program and the water unit, and job applications that meet the required specifications and qualifications will be selected.\\n4) Corresponding councils should be contacted with the names of those invited for interviews and obtaining the approval from the council that there is no objection on any applicant.\\n5) A committee from the program and the water unit is formed to conduct oral and written tests for the applicants, and then the marks are collected and the successful one determined.\\n6) After that the procedures are completed (conflict of interest, ATC) and obtaining the approvals in order to appoint the successful applicant.\\n7) The successful person is notified and the day of commencement is specified. Upon joining the work, the direct email of the program administration is raised.\\n\", \"Health awareness sessions are designed to reach all beneficiaries of all ages and genders and to use all approaches and methods to deliver messages to the community. As for the participants, the schools are targeted with awareness sessions to reach the small age groups for both sexes and the sessions that are conducted with the food distribution teams to reach the beneficiaries of the older ages for both sexes, it is possible to resort to home visits or IDP gatherings to reach women of old ages.\\nAs for the scope of these sessions, it is distributed among the employees of the organization at all levels, in addition to the water units, its stations, and the targeted areas, i.e. the areas that are being worked on by the GOAL organization.\\n\", \"My work has not currently overlapped with any other organization.\", \"No, I have not had any problem so far, all preventive measures have been taken in terms of distributing sterilizers, masks and gloves to workers, and stressing not to shake hands as well as not receiving complaints inside the station (the complaint is received from the beneficiary via WhatsApp for example) as well as alerting workers to report directly In the event of any symptoms of Covid-19\\nNo, I haven't had any issues regarding to Covid-19.\\n\", \"The main headquarters in Syria is in the city of Harem, from which the monitoring teams start off on the ground in the field, and send reports on the status of water and network to WASH department.\\nAnd the main office abroad in Turkey is daily aware of the work of the main office in Syria regarding the implementation of the project, and in my opinion this is sufficient.\\nCurrently, the monitoring teams carry out their tasks taking into consideration all the necessary precautions against Covid-19.\\n\", \"The monitoring team visits the stations weekly, and the work of the generation groups, pumps and tanks is monitored, in addition to conducting a questionnaire for the beneficiaries to find out the amount of water that the individual gets and the quality of the water produced through the network, and that is done on a monthly basis.\\nTheir reports are submitted to the director of the monitoring program and then shared with WASH program, in order to work on avoiding the notes.\\n\", \"The protection generalization section of the organization is notified, and it can also be reported by sending an email to speakup@goal.i in addition to the hotline Safecall.\", \"The support provided is somewhat adequate as an emergency project, but the amount of 25 liters per day per person (according to the Sphere standards) is somewhat small for our society, and often we receive requests to increase the amount of water per person.\\nNow the organization provides approximately 35 liters of water per person per day as a result of increased support.\\n\", \"The water program provides (clean water) support to all segments of society without discrimination, but with regard to the location of health awareness, the age groups as well as those with special needs are taken into account (for example distributing chairs for the disabled).\", \"There is a laboratory in the Wash program, as well as a laboratory in every water unit, where samples of water are collected from pumping stations and from the homes of beneficiaries, and the percentage of free remaining chlorine is measured, as well as turbidity and microbial colonies if any, and the measurement is done on a weekly basis. The laboratory employee submits a weekly report on the laboratory's work, and reports are submitted to the administration.\\nAs for the per capita water share per day, it is obtained through the pumping data that the stations raise daily for the program every Monday with an amount of 35 liters of water per person.\\nOn February 17-2020, Hazano station started pumping water, at a rate of 5 hours per day, and on 20/04/2020 it started increasing the number of pumping hours by 7 hours per day.\\n\", \"When any other organization provides support for the same area, a meeting is requested with this organization and the support provided by the GOAL organization is explained and given options that it can support the same area so that it does not conflict with the support provided by GOAL (a network expansion project for example).\\nIt did not happen at the stations that I supervise currently on them, but it happened on other stations supported by GOAL.\\n\", \"When designing the project, cooperation with the local authorities is carried out in order to define the needs in the community and collect data on water stations, as well as when implementing some projects such as the expansion of networks, which are representative of the residents of the village, so the cooperating has been done with them and they have all the statistics.\", \"Yes\", \"Yes, I signed the code of conduct, which is a mandatory procedure for all (employees, daily employees, volunteers, contractors, visitors, and service providers).\", \"Yes, consideration was given to, for example: some areas where there is no network, residents are supported by tanks, where free water is provided from the station, while the beneficiary is responsible for the cost of transporting water to his home.\\nAt the beginning of the work, the owners of the tanks were collected and the cost of transporting one barrel was determined, but after a while due to the high prices of fuel and the dollar, the meeting was held again with the owners of the tanks and updated the prices.\\n\"], \"name\": \"\", \"parents\": [\"\", \"\", \"\", \"\", \"\", \"\", \"\", \"\", \"\", \"\", \"\", \"\", \"\", \"\", \"\", \"\", \"\", \"\", \"\"], \"type\": \"treemap\", \"values\": [1, 1, 1, 1, 1, 1, 1, 1, 1, 1, 1, 1, 1, 1, 1, 1, 1, 1, 1]}],\n",
       "                        {\"legend\": {\"tracegroupgap\": 0}, \"template\": {\"data\": {\"bar\": [{\"error_x\": {\"color\": \"#2a3f5f\"}, \"error_y\": {\"color\": \"#2a3f5f\"}, \"marker\": {\"line\": {\"color\": \"#E5ECF6\", \"width\": 0.5}}, \"type\": \"bar\"}], \"barpolar\": [{\"marker\": {\"line\": {\"color\": \"#E5ECF6\", \"width\": 0.5}}, \"type\": \"barpolar\"}], \"carpet\": [{\"aaxis\": {\"endlinecolor\": \"#2a3f5f\", \"gridcolor\": \"white\", \"linecolor\": \"white\", \"minorgridcolor\": \"white\", \"startlinecolor\": \"#2a3f5f\"}, \"baxis\": {\"endlinecolor\": \"#2a3f5f\", \"gridcolor\": \"white\", \"linecolor\": \"white\", \"minorgridcolor\": \"white\", \"startlinecolor\": \"#2a3f5f\"}, \"type\": \"carpet\"}], \"choropleth\": [{\"colorbar\": {\"outlinewidth\": 0, \"ticks\": \"\"}, \"type\": \"choropleth\"}], \"contour\": [{\"colorbar\": {\"outlinewidth\": 0, \"ticks\": \"\"}, \"colorscale\": [[0.0, \"#0d0887\"], [0.1111111111111111, \"#46039f\"], [0.2222222222222222, \"#7201a8\"], [0.3333333333333333, \"#9c179e\"], [0.4444444444444444, \"#bd3786\"], [0.5555555555555556, \"#d8576b\"], [0.6666666666666666, \"#ed7953\"], [0.7777777777777778, \"#fb9f3a\"], [0.8888888888888888, \"#fdca26\"], [1.0, \"#f0f921\"]], \"type\": \"contour\"}], \"contourcarpet\": [{\"colorbar\": {\"outlinewidth\": 0, \"ticks\": \"\"}, \"type\": \"contourcarpet\"}], \"heatmap\": [{\"colorbar\": {\"outlinewidth\": 0, \"ticks\": \"\"}, \"colorscale\": [[0.0, \"#0d0887\"], [0.1111111111111111, \"#46039f\"], [0.2222222222222222, \"#7201a8\"], [0.3333333333333333, \"#9c179e\"], [0.4444444444444444, \"#bd3786\"], [0.5555555555555556, \"#d8576b\"], [0.6666666666666666, \"#ed7953\"], [0.7777777777777778, \"#fb9f3a\"], [0.8888888888888888, \"#fdca26\"], [1.0, \"#f0f921\"]], \"type\": \"heatmap\"}], \"heatmapgl\": [{\"colorbar\": {\"outlinewidth\": 0, \"ticks\": \"\"}, \"colorscale\": [[0.0, \"#0d0887\"], [0.1111111111111111, \"#46039f\"], [0.2222222222222222, \"#7201a8\"], [0.3333333333333333, \"#9c179e\"], [0.4444444444444444, \"#bd3786\"], [0.5555555555555556, \"#d8576b\"], [0.6666666666666666, \"#ed7953\"], [0.7777777777777778, \"#fb9f3a\"], [0.8888888888888888, \"#fdca26\"], [1.0, \"#f0f921\"]], \"type\": \"heatmapgl\"}], \"histogram\": [{\"marker\": {\"colorbar\": {\"outlinewidth\": 0, \"ticks\": \"\"}}, \"type\": \"histogram\"}], \"histogram2d\": [{\"colorbar\": {\"outlinewidth\": 0, \"ticks\": \"\"}, \"colorscale\": [[0.0, \"#0d0887\"], [0.1111111111111111, \"#46039f\"], [0.2222222222222222, \"#7201a8\"], [0.3333333333333333, \"#9c179e\"], [0.4444444444444444, \"#bd3786\"], [0.5555555555555556, \"#d8576b\"], [0.6666666666666666, \"#ed7953\"], [0.7777777777777778, \"#fb9f3a\"], [0.8888888888888888, \"#fdca26\"], [1.0, \"#f0f921\"]], \"type\": \"histogram2d\"}], \"histogram2dcontour\": [{\"colorbar\": {\"outlinewidth\": 0, \"ticks\": \"\"}, \"colorscale\": [[0.0, \"#0d0887\"], [0.1111111111111111, \"#46039f\"], [0.2222222222222222, \"#7201a8\"], [0.3333333333333333, \"#9c179e\"], [0.4444444444444444, \"#bd3786\"], [0.5555555555555556, \"#d8576b\"], [0.6666666666666666, \"#ed7953\"], [0.7777777777777778, \"#fb9f3a\"], [0.8888888888888888, \"#fdca26\"], [1.0, \"#f0f921\"]], \"type\": \"histogram2dcontour\"}], \"mesh3d\": [{\"colorbar\": {\"outlinewidth\": 0, \"ticks\": \"\"}, \"type\": \"mesh3d\"}], \"parcoords\": [{\"line\": {\"colorbar\": {\"outlinewidth\": 0, \"ticks\": \"\"}}, \"type\": \"parcoords\"}], \"pie\": [{\"automargin\": true, \"type\": \"pie\"}], \"scatter\": [{\"marker\": {\"colorbar\": {\"outlinewidth\": 0, \"ticks\": \"\"}}, \"type\": \"scatter\"}], \"scatter3d\": [{\"line\": {\"colorbar\": {\"outlinewidth\": 0, \"ticks\": \"\"}}, \"marker\": {\"colorbar\": {\"outlinewidth\": 0, \"ticks\": \"\"}}, \"type\": \"scatter3d\"}], \"scattercarpet\": [{\"marker\": {\"colorbar\": {\"outlinewidth\": 0, \"ticks\": \"\"}}, \"type\": \"scattercarpet\"}], \"scattergeo\": [{\"marker\": {\"colorbar\": {\"outlinewidth\": 0, \"ticks\": \"\"}}, \"type\": \"scattergeo\"}], \"scattergl\": [{\"marker\": {\"colorbar\": {\"outlinewidth\": 0, \"ticks\": \"\"}}, \"type\": \"scattergl\"}], \"scattermapbox\": [{\"marker\": {\"colorbar\": {\"outlinewidth\": 0, \"ticks\": \"\"}}, \"type\": \"scattermapbox\"}], \"scatterpolar\": [{\"marker\": {\"colorbar\": {\"outlinewidth\": 0, \"ticks\": \"\"}}, \"type\": \"scatterpolar\"}], \"scatterpolargl\": [{\"marker\": {\"colorbar\": {\"outlinewidth\": 0, \"ticks\": \"\"}}, \"type\": \"scatterpolargl\"}], \"scatterternary\": [{\"marker\": {\"colorbar\": {\"outlinewidth\": 0, \"ticks\": \"\"}}, \"type\": \"scatterternary\"}], \"surface\": [{\"colorbar\": {\"outlinewidth\": 0, \"ticks\": \"\"}, \"colorscale\": [[0.0, \"#0d0887\"], [0.1111111111111111, \"#46039f\"], [0.2222222222222222, \"#7201a8\"], [0.3333333333333333, \"#9c179e\"], [0.4444444444444444, \"#bd3786\"], [0.5555555555555556, \"#d8576b\"], [0.6666666666666666, \"#ed7953\"], [0.7777777777777778, \"#fb9f3a\"], [0.8888888888888888, \"#fdca26\"], [1.0, \"#f0f921\"]], \"type\": \"surface\"}], \"table\": [{\"cells\": {\"fill\": {\"color\": \"#EBF0F8\"}, \"line\": {\"color\": \"white\"}}, \"header\": {\"fill\": {\"color\": \"#C8D4E3\"}, \"line\": {\"color\": \"white\"}}, \"type\": \"table\"}]}, \"layout\": {\"annotationdefaults\": {\"arrowcolor\": \"#2a3f5f\", \"arrowhead\": 0, \"arrowwidth\": 1}, \"coloraxis\": {\"colorbar\": {\"outlinewidth\": 0, \"ticks\": \"\"}}, \"colorscale\": {\"diverging\": [[0, \"#8e0152\"], [0.1, \"#c51b7d\"], [0.2, \"#de77ae\"], [0.3, \"#f1b6da\"], [0.4, \"#fde0ef\"], [0.5, \"#f7f7f7\"], [0.6, \"#e6f5d0\"], [0.7, \"#b8e186\"], [0.8, \"#7fbc41\"], [0.9, \"#4d9221\"], [1, \"#276419\"]], \"sequential\": [[0.0, \"#0d0887\"], [0.1111111111111111, \"#46039f\"], [0.2222222222222222, \"#7201a8\"], [0.3333333333333333, \"#9c179e\"], [0.4444444444444444, \"#bd3786\"], [0.5555555555555556, \"#d8576b\"], [0.6666666666666666, \"#ed7953\"], [0.7777777777777778, \"#fb9f3a\"], [0.8888888888888888, \"#fdca26\"], [1.0, \"#f0f921\"]], \"sequentialminus\": [[0.0, \"#0d0887\"], [0.1111111111111111, \"#46039f\"], [0.2222222222222222, \"#7201a8\"], [0.3333333333333333, \"#9c179e\"], [0.4444444444444444, \"#bd3786\"], [0.5555555555555556, \"#d8576b\"], [0.6666666666666666, \"#ed7953\"], [0.7777777777777778, \"#fb9f3a\"], [0.8888888888888888, \"#fdca26\"], [1.0, \"#f0f921\"]]}, \"colorway\": [\"#636efa\", \"#EF553B\", \"#00cc96\", \"#ab63fa\", \"#FFA15A\", \"#19d3f3\", \"#FF6692\", \"#B6E880\", \"#FF97FF\", \"#FECB52\"], \"font\": {\"color\": \"#2a3f5f\"}, \"geo\": {\"bgcolor\": \"white\", \"lakecolor\": \"white\", \"landcolor\": \"#E5ECF6\", \"showlakes\": true, \"showland\": true, \"subunitcolor\": \"white\"}, \"hoverlabel\": {\"align\": \"left\"}, \"hovermode\": \"closest\", \"mapbox\": {\"style\": \"light\"}, \"paper_bgcolor\": \"white\", \"plot_bgcolor\": \"#E5ECF6\", \"polar\": {\"angularaxis\": {\"gridcolor\": \"white\", \"linecolor\": \"white\", \"ticks\": \"\"}, \"bgcolor\": \"#E5ECF6\", \"radialaxis\": {\"gridcolor\": \"white\", \"linecolor\": \"white\", \"ticks\": \"\"}}, \"scene\": {\"xaxis\": {\"backgroundcolor\": \"#E5ECF6\", \"gridcolor\": \"white\", \"gridwidth\": 2, \"linecolor\": \"white\", \"showbackground\": true, \"ticks\": \"\", \"zerolinecolor\": \"white\"}, \"yaxis\": {\"backgroundcolor\": \"#E5ECF6\", \"gridcolor\": \"white\", \"gridwidth\": 2, \"linecolor\": \"white\", \"showbackground\": true, \"ticks\": \"\", \"zerolinecolor\": \"white\"}, \"zaxis\": {\"backgroundcolor\": \"#E5ECF6\", \"gridcolor\": \"white\", \"gridwidth\": 2, \"linecolor\": \"white\", \"showbackground\": true, \"ticks\": \"\", \"zerolinecolor\": \"white\"}}, \"shapedefaults\": {\"line\": {\"color\": \"#2a3f5f\"}}, \"ternary\": {\"aaxis\": {\"gridcolor\": \"white\", \"linecolor\": \"white\", \"ticks\": \"\"}, \"baxis\": {\"gridcolor\": \"white\", \"linecolor\": \"white\", \"ticks\": \"\"}, \"bgcolor\": \"#E5ECF6\", \"caxis\": {\"gridcolor\": \"white\", \"linecolor\": \"white\", \"ticks\": \"\"}}, \"title\": {\"x\": 0.05}, \"xaxis\": {\"automargin\": true, \"gridcolor\": \"white\", \"linecolor\": \"white\", \"ticks\": \"\", \"title\": {\"standoff\": 15}, \"zerolinecolor\": \"white\", \"zerolinewidth\": 2}, \"yaxis\": {\"automargin\": true, \"gridcolor\": \"white\", \"linecolor\": \"white\", \"ticks\": \"\", \"title\": {\"standoff\": 15}, \"zerolinecolor\": \"white\", \"zerolinewidth\": 2}}}, \"title\": {\"text\": \"Treemap chart\"}},\n",
       "                        {\"responsive\": true}\n",
       "                    ).then(function(){\n",
       "                            \n",
       "var gd = document.getElementById('351c6559-ea29-4e42-8388-e88c9641138c');\n",
       "var x = new MutationObserver(function (mutations, observer) {{\n",
       "        var display = window.getComputedStyle(gd).display;\n",
       "        if (!display || display === 'none') {{\n",
       "            console.log([gd, 'removed!']);\n",
       "            Plotly.purge(gd);\n",
       "            observer.disconnect();\n",
       "        }}\n",
       "}});\n",
       "\n",
       "// Listen for the removal of the full notebook cells\n",
       "var notebookContainer = gd.closest('#notebook-container');\n",
       "if (notebookContainer) {{\n",
       "    x.observe(notebookContainer, {childList: true});\n",
       "}}\n",
       "\n",
       "// Listen for the clearing of the current output cell\n",
       "var outputEl = gd.closest('.output');\n",
       "if (outputEl) {{\n",
       "    x.observe(outputEl, {childList: true});\n",
       "}}\n",
       "\n",
       "                        })\n",
       "                };\n",
       "                });\n",
       "            </script>\n",
       "        </div>"
      ]
     },
     "metadata": {},
     "output_type": "display_data"
    }
   ],
   "source": [
    "fig = px.treemap(KII_GOAL, title='Treemap chart',\n",
    "                 path=['Answers'], color_continuous_scale=px.colors.sequential.GnBu)\n",
    "fig.show()\n"
   ]
  },
  {
   "cell_type": "code",
   "execution_count": null,
   "metadata": {},
   "outputs": [],
   "source": []
  }
 ],
 "metadata": {
  "kernelspec": {
   "display_name": "Python 3",
   "language": "python",
   "name": "python3"
  },
  "language_info": {
   "codemirror_mode": {
    "name": "ipython",
    "version": 3
   },
   "file_extension": ".py",
   "mimetype": "text/x-python",
   "name": "python",
   "nbconvert_exporter": "python",
   "pygments_lexer": "ipython3",
   "version": "3.7.3"
  }
 },
 "nbformat": 4,
 "nbformat_minor": 2
}
